{
  "nbformat": 4,
  "nbformat_minor": 0,
  "metadata": {
    "colab": {
      "name": "Analysis-Reportipynb",
      "provenance": [],
      "collapsed_sections": [],
      "toc_visible": true
    },
    "kernelspec": {
      "name": "python3",
      "display_name": "Python 3"
    },
    "language_info": {
      "name": "python"
    }
  },
  "cells": [
    {
      "cell_type": "code",
      "metadata": {
        "id": "TIQW1VCyKkTP"
      },
      "source": [
        "import pandas as pd\n",
        "import numpy as np\n",
        "import random\n",
        "from sklearn.metrics import confusion_matrix\n",
        "from sklearn.cluster import KMeans\n",
        "from sklearn.neighbors import KNeighborsClassifier\n",
        "from sklearn.naive_bayes import GaussianNB\n",
        "from sklearn.feature_selection import SelectKBest, chi2, RFE, f_classif, mutual_info_classif\n",
        "from sklearn.ensemble import ExtraTreesClassifier, RandomForestClassifier\n",
        "import matplotlib.pyplot as plt\n",
        "from scipy.stats import f_oneway\n",
        "from sklearn.tree import DecisionTreeClassifier\n",
        "from itertools import compress\n",
        "from sklearn.svm import SVR\n",
        "import seaborn as sns\n",
        "from sklearn.decomposition import PCA\n",
        "from sklearn.preprocessing import StandardScaler\n",
        "from sklearn.model_selection import train_test_split\n",
        "from sklearn.linear_model import LogisticRegression\n",
        "from sklearn import metrics"
      ],
      "execution_count": null,
      "outputs": []
    },
    {
      "cell_type": "markdown",
      "metadata": {
        "id": "_g6r7vXL_sUW"
      },
      "source": [
        "# **Loading The Dataset**"
      ]
    },
    {
      "cell_type": "code",
      "metadata": {
        "colab": {
          "base_uri": "https://localhost:8080/",
          "height": 408
        },
        "id": "3IOSRnrJKnMu",
        "outputId": "c5e09094-10c9-4028-f099-eaabda6e0824"
      },
      "source": [
        "heart_data = pd.read_excel('Heart Attack FD Data.xlsx',usecols=['TIME','Event','Gender','Smoking','Diabetes','BP','Anaemia','Age','Ejection.Fraction','Sodium','Creatinine','Pletelets','CPK'])\n",
        "heart_data = heart_data[['TIME','Age','Ejection.Fraction','Sodium','Creatinine','Pletelets','CPK','Gender','Smoking','Diabetes','Anaemia','BP','Event']]\n",
        "heart_data"
      ],
      "execution_count": null,
      "outputs": [
        {
          "output_type": "execute_result",
          "data": {
            "text/html": [
              "<div>\n",
              "<style scoped>\n",
              "    .dataframe tbody tr th:only-of-type {\n",
              "        vertical-align: middle;\n",
              "    }\n",
              "\n",
              "    .dataframe tbody tr th {\n",
              "        vertical-align: top;\n",
              "    }\n",
              "\n",
              "    .dataframe thead th {\n",
              "        text-align: right;\n",
              "    }\n",
              "</style>\n",
              "<table border=\"1\" class=\"dataframe\">\n",
              "  <thead>\n",
              "    <tr style=\"text-align: right;\">\n",
              "      <th></th>\n",
              "      <th>TIME</th>\n",
              "      <th>Age</th>\n",
              "      <th>Ejection.Fraction</th>\n",
              "      <th>Sodium</th>\n",
              "      <th>Creatinine</th>\n",
              "      <th>Pletelets</th>\n",
              "      <th>CPK</th>\n",
              "      <th>Gender</th>\n",
              "      <th>Smoking</th>\n",
              "      <th>Diabetes</th>\n",
              "      <th>Anaemia</th>\n",
              "      <th>BP</th>\n",
              "      <th>Event</th>\n",
              "    </tr>\n",
              "  </thead>\n",
              "  <tbody>\n",
              "    <tr>\n",
              "      <th>0</th>\n",
              "      <td>97</td>\n",
              "      <td>43.0</td>\n",
              "      <td>50</td>\n",
              "      <td>135</td>\n",
              "      <td>1.30</td>\n",
              "      <td>237000.00</td>\n",
              "      <td>358</td>\n",
              "      <td>0</td>\n",
              "      <td>0</td>\n",
              "      <td>0</td>\n",
              "      <td>1</td>\n",
              "      <td>0</td>\n",
              "      <td>0</td>\n",
              "    </tr>\n",
              "    <tr>\n",
              "      <th>1</th>\n",
              "      <td>180</td>\n",
              "      <td>73.0</td>\n",
              "      <td>30</td>\n",
              "      <td>142</td>\n",
              "      <td>1.18</td>\n",
              "      <td>160000.00</td>\n",
              "      <td>231</td>\n",
              "      <td>1</td>\n",
              "      <td>1</td>\n",
              "      <td>1</td>\n",
              "      <td>1</td>\n",
              "      <td>0</td>\n",
              "      <td>0</td>\n",
              "    </tr>\n",
              "    <tr>\n",
              "      <th>2</th>\n",
              "      <td>31</td>\n",
              "      <td>70.0</td>\n",
              "      <td>20</td>\n",
              "      <td>134</td>\n",
              "      <td>1.83</td>\n",
              "      <td>263358.03</td>\n",
              "      <td>582</td>\n",
              "      <td>1</td>\n",
              "      <td>1</td>\n",
              "      <td>0</td>\n",
              "      <td>0</td>\n",
              "      <td>1</td>\n",
              "      <td>1</td>\n",
              "    </tr>\n",
              "    <tr>\n",
              "      <th>3</th>\n",
              "      <td>87</td>\n",
              "      <td>65.0</td>\n",
              "      <td>25</td>\n",
              "      <td>141</td>\n",
              "      <td>1.10</td>\n",
              "      <td>298000.00</td>\n",
              "      <td>305</td>\n",
              "      <td>1</td>\n",
              "      <td>0</td>\n",
              "      <td>0</td>\n",
              "      <td>1</td>\n",
              "      <td>0</td>\n",
              "      <td>0</td>\n",
              "    </tr>\n",
              "    <tr>\n",
              "      <th>4</th>\n",
              "      <td>113</td>\n",
              "      <td>64.0</td>\n",
              "      <td>60</td>\n",
              "      <td>137</td>\n",
              "      <td>1.00</td>\n",
              "      <td>242000.00</td>\n",
              "      <td>1610</td>\n",
              "      <td>1</td>\n",
              "      <td>0</td>\n",
              "      <td>0</td>\n",
              "      <td>0</td>\n",
              "      <td>0</td>\n",
              "      <td>0</td>\n",
              "    </tr>\n",
              "    <tr>\n",
              "      <th>...</th>\n",
              "      <td>...</td>\n",
              "      <td>...</td>\n",
              "      <td>...</td>\n",
              "      <td>...</td>\n",
              "      <td>...</td>\n",
              "      <td>...</td>\n",
              "      <td>...</td>\n",
              "      <td>...</td>\n",
              "      <td>...</td>\n",
              "      <td>...</td>\n",
              "      <td>...</td>\n",
              "      <td>...</td>\n",
              "      <td>...</td>\n",
              "    </tr>\n",
              "    <tr>\n",
              "      <th>294</th>\n",
              "      <td>250</td>\n",
              "      <td>45.0</td>\n",
              "      <td>55</td>\n",
              "      <td>132</td>\n",
              "      <td>1.00</td>\n",
              "      <td>543000.00</td>\n",
              "      <td>582</td>\n",
              "      <td>0</td>\n",
              "      <td>0</td>\n",
              "      <td>1</td>\n",
              "      <td>0</td>\n",
              "      <td>0</td>\n",
              "      <td>0</td>\n",
              "    </tr>\n",
              "    <tr>\n",
              "      <th>295</th>\n",
              "      <td>244</td>\n",
              "      <td>51.0</td>\n",
              "      <td>40</td>\n",
              "      <td>134</td>\n",
              "      <td>0.90</td>\n",
              "      <td>221000.00</td>\n",
              "      <td>582</td>\n",
              "      <td>0</td>\n",
              "      <td>0</td>\n",
              "      <td>1</td>\n",
              "      <td>0</td>\n",
              "      <td>0</td>\n",
              "      <td>0</td>\n",
              "    </tr>\n",
              "    <tr>\n",
              "      <th>296</th>\n",
              "      <td>14</td>\n",
              "      <td>45.0</td>\n",
              "      <td>14</td>\n",
              "      <td>127</td>\n",
              "      <td>0.80</td>\n",
              "      <td>166000.00</td>\n",
              "      <td>582</td>\n",
              "      <td>1</td>\n",
              "      <td>0</td>\n",
              "      <td>0</td>\n",
              "      <td>0</td>\n",
              "      <td>0</td>\n",
              "      <td>1</td>\n",
              "    </tr>\n",
              "    <tr>\n",
              "      <th>297</th>\n",
              "      <td>80</td>\n",
              "      <td>60.0</td>\n",
              "      <td>45</td>\n",
              "      <td>133</td>\n",
              "      <td>1.00</td>\n",
              "      <td>297000.00</td>\n",
              "      <td>897</td>\n",
              "      <td>1</td>\n",
              "      <td>0</td>\n",
              "      <td>1</td>\n",
              "      <td>0</td>\n",
              "      <td>0</td>\n",
              "      <td>0</td>\n",
              "    </tr>\n",
              "    <tr>\n",
              "      <th>298</th>\n",
              "      <td>16</td>\n",
              "      <td>65.0</td>\n",
              "      <td>25</td>\n",
              "      <td>137</td>\n",
              "      <td>1.30</td>\n",
              "      <td>276000.00</td>\n",
              "      <td>52</td>\n",
              "      <td>0</td>\n",
              "      <td>0</td>\n",
              "      <td>0</td>\n",
              "      <td>1</td>\n",
              "      <td>1</td>\n",
              "      <td>0</td>\n",
              "    </tr>\n",
              "  </tbody>\n",
              "</table>\n",
              "<p>299 rows × 13 columns</p>\n",
              "</div>"
            ],
            "text/plain": [
              "     TIME   Age  Ejection.Fraction  Sodium  ...  Diabetes  Anaemia  BP  Event\n",
              "0      97  43.0                 50     135  ...         0        1   0      0\n",
              "1     180  73.0                 30     142  ...         1        1   0      0\n",
              "2      31  70.0                 20     134  ...         0        0   1      1\n",
              "3      87  65.0                 25     141  ...         0        1   0      0\n",
              "4     113  64.0                 60     137  ...         0        0   0      0\n",
              "..    ...   ...                ...     ...  ...       ...      ...  ..    ...\n",
              "294   250  45.0                 55     132  ...         1        0   0      0\n",
              "295   244  51.0                 40     134  ...         1        0   0      0\n",
              "296    14  45.0                 14     127  ...         0        0   0      1\n",
              "297    80  60.0                 45     133  ...         1        0   0      0\n",
              "298    16  65.0                 25     137  ...         0        1   1      0\n",
              "\n",
              "[299 rows x 13 columns]"
            ]
          },
          "metadata": {
            "tags": []
          },
          "execution_count": 32
        }
      ]
    },
    {
      "cell_type": "markdown",
      "metadata": {
        "id": "DXUt7yH0Yx96"
      },
      "source": [
        "# **Correlation Matrix**"
      ]
    },
    {
      "cell_type": "code",
      "metadata": {
        "colab": {
          "base_uri": "https://localhost:8080/",
          "height": 611
        },
        "id": "Metw-V5jY05B",
        "outputId": "546e64ab-9e42-4988-cbaa-fe46aae0fb1e"
      },
      "source": [
        "plt.figure(figsize=(20,10))\n",
        "sns.heatmap(heart_data.iloc[:,:].corr(),annot=True)"
      ],
      "execution_count": null,
      "outputs": [
        {
          "output_type": "execute_result",
          "data": {
            "text/plain": [
              "<matplotlib.axes._subplots.AxesSubplot at 0x7f6acff59ed0>"
            ]
          },
          "metadata": {
            "tags": []
          },
          "execution_count": 33
        },
        {
          "output_type": "display_data",
          "data": {
            "image/png": "[encoded data removed]",
            "text/plain": [
              "<Figure size 1440x720 with 2 Axes>"
            ]
          },
          "metadata": {
            "tags": [],
            "needs_background": "light"
          }
        }
      ]
    },
    {
      "cell_type": "markdown",
      "metadata": {
        "id": "DY2HjVprZMIp"
      },
      "source": [
        "# **Confusion Matrix Function**"
      ]
    },
    {
      "cell_type": "code",
      "metadata": {
        "id": "idyhXr1_ZO9-"
      },
      "source": [
        "import itertools\n",
        "def plot_confusion_matrix(cm, classes,\n",
        "                          normalize=False,\n",
        "                          title='Confusion matrix',\n",
        "                          cmap=plt.cm.Blues):\n",
        "    \"\"\"\n",
        "    This function prints and plots the confusion matrix.\n",
        "    Normalization can be applied by setting `normalize=True`.\n",
        "    \"\"\"\n",
        "    \n",
        "    plt.imshow(cm, interpolation='nearest', cmap=cmap)\n",
        "    plt.title(title)\n",
        "    plt.colorbar()\n",
        "    tick_marks = np.arange(len(classes))\n",
        "    plt.xticks(tick_marks, classes, rotation=45)\n",
        "    plt.yticks(tick_marks, classes)\n",
        "\n",
        "    fmt = '.2f' if normalize else 'd'\n",
        "    thresh = cm.max() / 2.\n",
        "    for i, j in itertools.product(range(cm.shape[0]), range(cm.shape[1])):\n",
        "        plt.text(j, i, format(cm[i, j], fmt),\n",
        "                 horizontalalignment=\"center\",\n",
        "                 color=\"white\" if cm[i, j] > thresh else \"black\")\n",
        "\n",
        "    plt.tight_layout()\n",
        "    plt.ylabel('True label')\n",
        "    plt.xlabel('Predicted label')"
      ],
      "execution_count": null,
      "outputs": []
    },
    {
      "cell_type": "markdown",
      "metadata": {
        "id": "YSOOaJYgzTt0"
      },
      "source": [
        "# **KNN Function**"
      ]
    },
    {
      "cell_type": "code",
      "metadata": {
        "id": "odMS8HjzzV0E"
      },
      "source": [
        "def cal_KNN(k_ranges,x_train,y_train,x_test,y_test):\n",
        "\n",
        "  train_set_accuracies = []\n",
        "  test_set_accuracies = []\n",
        "  test_set_predictions = []\n",
        "\n",
        "  best_k = None\n",
        "  best_score = None\n",
        "\n",
        "  for k in k_ranges:\n",
        "    neigh = KNeighborsClassifier(n_neighbors = k)\n",
        "    neigh.fit(x_train,y_train)\n",
        "\n",
        "    yhat=neigh.predict(x_test)\n",
        "\n",
        "    train_set_accuracies.append(metrics.accuracy_score(y_train, neigh.predict(x_train)))\n",
        "    test_set_accuracies.append(metrics.accuracy_score(y_test, yhat))\n",
        "    test_set_predictions.append(yhat)\n",
        "\n",
        "  for i in range(len(k_ranges)):\n",
        "    if (best_k == None):\n",
        "      best_k = k_ranges[i]\n",
        "      best_score = test_set_accuracies[i]\n",
        "    elif (best_score < test_set_accuracies[i]):\n",
        "      best_k = k_ranges[i]\n",
        "      best_score = test_set_accuracies[i]\n",
        "    print('\\n\\nAt K = {} :\\nTrain Acc: {} === Test Acc: {}'.format(k_ranges[i],train_set_accuracies[i],test_set_accuracies[i]))\n",
        "\n",
        "  print('\\nBest Performing Value of K is: {}'.format(best_k))\n",
        "\n",
        "  return best_k, train_set_accuracies, test_set_accuracies, test_set_predictions"
      ],
      "execution_count": null,
      "outputs": []
    },
    {
      "cell_type": "markdown",
      "metadata": {
        "id": "MsATHRt0zZ5D"
      },
      "source": [
        "# **KNN K Performance Plot Train and Test**"
      ]
    },
    {
      "cell_type": "code",
      "metadata": {
        "id": "_YYEsbuYzf6e"
      },
      "source": [
        "def plot_k_performance(k_ranges,train_set_accuracies,test_set_accuracies):\n",
        "  ax = sns.lineplot(x = k_ranges,y = train_set_accuracies, label = 'Train Set Accuracy')\n",
        "  ax.set(xlabel = 'Values Of K',ylabel = 'Accuracy At K',title = 'K Performance Plot')\n",
        "  sns.lineplot(x = k_ranges,y = test_set_accuracies, label = 'Test Set Accuracy')\n",
        "  plt.ylim(0,1)"
      ],
      "execution_count": null,
      "outputs": []
    },
    {
      "cell_type": "markdown",
      "metadata": {
        "id": "T7GCb7wz1FZ_"
      },
      "source": [
        "# **Naive Bayes Function**"
      ]
    },
    {
      "cell_type": "code",
      "metadata": {
        "id": "Dwx4OQ-A1Mr3"
      },
      "source": [
        "def calc_NaiveBayes(x_train, y_train, x_test, y_test):\n",
        "  gnb = GaussianNB()\n",
        "\n",
        "  gnb.fit(x_train,y_train)\n",
        "  yhat = gnb.predict(x_test)\n",
        "\n",
        "  train_set_accuracy = metrics.accuracy_score(y_train, gnb.predict(x_train))\n",
        "  test_set_accuracy = metrics.accuracy_score(y_test, yhat)\n",
        "\n",
        "  print(\"Train set Accuracy: \", train_set_accuracy)\n",
        "  print(\"Test set Accuracy: \", test_set_accuracy)\n",
        "\n",
        "  return train_set_accuracy, test_set_accuracy, yhat"
      ],
      "execution_count": null,
      "outputs": []
    },
    {
      "cell_type": "markdown",
      "metadata": {
        "id": "IlkzJQdLXPZ_"
      },
      "source": [
        "# **Computing Accuracy With Normalization**"
      ]
    },
    {
      "cell_type": "markdown",
      "metadata": {
        "id": "K-pTjTJllDxO"
      },
      "source": [
        "## **Calculating Accuracy Without Feature Selection**"
      ]
    },
    {
      "cell_type": "code",
      "metadata": {
        "colab": {
          "base_uri": "https://localhost:8080/",
          "height": 408
        },
        "id": "Euh5BhbuoOnh",
        "outputId": "0d7b41f8-df7f-43a8-b8d5-9e890d26a5dc"
      },
      "source": [
        "def min_max_normalize(df):\n",
        "  features = df.columns.to_list()[0:-1]\n",
        "  for col in features:\n",
        "    df[col] = ( ( df[col] - min(df[col]) ) / ( max(df[col]) - min(df[col]) ) )\n",
        "  return df.copy()  \n",
        "\n",
        "heart_data = min_max_normalize(heart_data)\n",
        "heart_data"
      ],
      "execution_count": null,
      "outputs": [
        {
          "output_type": "execute_result",
          "data": {
            "text/html": [
              "<div>\n",
              "<style scoped>\n",
              "    .dataframe tbody tr th:only-of-type {\n",
              "        vertical-align: middle;\n",
              "    }\n",
              "\n",
              "    .dataframe tbody tr th {\n",
              "        vertical-align: top;\n",
              "    }\n",
              "\n",
              "    .dataframe thead th {\n",
              "        text-align: right;\n",
              "    }\n",
              "</style>\n",
              "<table border=\"1\" class=\"dataframe\">\n",
              "  <thead>\n",
              "    <tr style=\"text-align: right;\">\n",
              "      <th></th>\n",
              "      <th>TIME</th>\n",
              "      <th>Age</th>\n",
              "      <th>Ejection.Fraction</th>\n",
              "      <th>Sodium</th>\n",
              "      <th>Creatinine</th>\n",
              "      <th>Pletelets</th>\n",
              "      <th>CPK</th>\n",
              "      <th>Gender</th>\n",
              "      <th>Smoking</th>\n",
              "      <th>Diabetes</th>\n",
              "      <th>Anaemia</th>\n",
              "      <th>BP</th>\n",
              "      <th>Event</th>\n",
              "    </tr>\n",
              "  </thead>\n",
              "  <tbody>\n",
              "    <tr>\n",
              "      <th>0</th>\n",
              "      <td>0.330961</td>\n",
              "      <td>0.054545</td>\n",
              "      <td>0.545455</td>\n",
              "      <td>0.628571</td>\n",
              "      <td>0.089888</td>\n",
              "      <td>0.256880</td>\n",
              "      <td>0.042740</td>\n",
              "      <td>0.0</td>\n",
              "      <td>0.0</td>\n",
              "      <td>0.0</td>\n",
              "      <td>1.0</td>\n",
              "      <td>0.0</td>\n",
              "      <td>0</td>\n",
              "    </tr>\n",
              "    <tr>\n",
              "      <th>1</th>\n",
              "      <td>0.626335</td>\n",
              "      <td>0.600000</td>\n",
              "      <td>0.242424</td>\n",
              "      <td>0.828571</td>\n",
              "      <td>0.076404</td>\n",
              "      <td>0.163535</td>\n",
              "      <td>0.026537</td>\n",
              "      <td>1.0</td>\n",
              "      <td>1.0</td>\n",
              "      <td>1.0</td>\n",
              "      <td>1.0</td>\n",
              "      <td>0.0</td>\n",
              "      <td>0</td>\n",
              "    </tr>\n",
              "    <tr>\n",
              "      <th>2</th>\n",
              "      <td>0.096085</td>\n",
              "      <td>0.545455</td>\n",
              "      <td>0.090909</td>\n",
              "      <td>0.600000</td>\n",
              "      <td>0.149438</td>\n",
              "      <td>0.288833</td>\n",
              "      <td>0.071319</td>\n",
              "      <td>1.0</td>\n",
              "      <td>1.0</td>\n",
              "      <td>0.0</td>\n",
              "      <td>0.0</td>\n",
              "      <td>1.0</td>\n",
              "      <td>1</td>\n",
              "    </tr>\n",
              "    <tr>\n",
              "      <th>3</th>\n",
              "      <td>0.295374</td>\n",
              "      <td>0.454545</td>\n",
              "      <td>0.166667</td>\n",
              "      <td>0.800000</td>\n",
              "      <td>0.067416</td>\n",
              "      <td>0.330828</td>\n",
              "      <td>0.035979</td>\n",
              "      <td>1.0</td>\n",
              "      <td>0.0</td>\n",
              "      <td>0.0</td>\n",
              "      <td>1.0</td>\n",
              "      <td>0.0</td>\n",
              "      <td>0</td>\n",
              "    </tr>\n",
              "    <tr>\n",
              "      <th>4</th>\n",
              "      <td>0.387900</td>\n",
              "      <td>0.436364</td>\n",
              "      <td>0.696970</td>\n",
              "      <td>0.685714</td>\n",
              "      <td>0.056180</td>\n",
              "      <td>0.262941</td>\n",
              "      <td>0.202475</td>\n",
              "      <td>1.0</td>\n",
              "      <td>0.0</td>\n",
              "      <td>0.0</td>\n",
              "      <td>0.0</td>\n",
              "      <td>0.0</td>\n",
              "      <td>0</td>\n",
              "    </tr>\n",
              "    <tr>\n",
              "      <th>...</th>\n",
              "      <td>...</td>\n",
              "      <td>...</td>\n",
              "      <td>...</td>\n",
              "      <td>...</td>\n",
              "      <td>...</td>\n",
              "      <td>...</td>\n",
              "      <td>...</td>\n",
              "      <td>...</td>\n",
              "      <td>...</td>\n",
              "      <td>...</td>\n",
              "      <td>...</td>\n",
              "      <td>...</td>\n",
              "      <td>...</td>\n",
              "    </tr>\n",
              "    <tr>\n",
              "      <th>294</th>\n",
              "      <td>0.875445</td>\n",
              "      <td>0.090909</td>\n",
              "      <td>0.621212</td>\n",
              "      <td>0.542857</td>\n",
              "      <td>0.056180</td>\n",
              "      <td>0.627834</td>\n",
              "      <td>0.071319</td>\n",
              "      <td>0.0</td>\n",
              "      <td>0.0</td>\n",
              "      <td>1.0</td>\n",
              "      <td>0.0</td>\n",
              "      <td>0.0</td>\n",
              "      <td>0</td>\n",
              "    </tr>\n",
              "    <tr>\n",
              "      <th>295</th>\n",
              "      <td>0.854093</td>\n",
              "      <td>0.200000</td>\n",
              "      <td>0.393939</td>\n",
              "      <td>0.600000</td>\n",
              "      <td>0.044944</td>\n",
              "      <td>0.237483</td>\n",
              "      <td>0.071319</td>\n",
              "      <td>0.0</td>\n",
              "      <td>0.0</td>\n",
              "      <td>1.0</td>\n",
              "      <td>0.0</td>\n",
              "      <td>0.0</td>\n",
              "      <td>0</td>\n",
              "    </tr>\n",
              "    <tr>\n",
              "      <th>296</th>\n",
              "      <td>0.035587</td>\n",
              "      <td>0.090909</td>\n",
              "      <td>0.000000</td>\n",
              "      <td>0.400000</td>\n",
              "      <td>0.033708</td>\n",
              "      <td>0.170809</td>\n",
              "      <td>0.071319</td>\n",
              "      <td>1.0</td>\n",
              "      <td>0.0</td>\n",
              "      <td>0.0</td>\n",
              "      <td>0.0</td>\n",
              "      <td>0.0</td>\n",
              "      <td>1</td>\n",
              "    </tr>\n",
              "    <tr>\n",
              "      <th>297</th>\n",
              "      <td>0.270463</td>\n",
              "      <td>0.363636</td>\n",
              "      <td>0.469697</td>\n",
              "      <td>0.571429</td>\n",
              "      <td>0.056180</td>\n",
              "      <td>0.329616</td>\n",
              "      <td>0.111508</td>\n",
              "      <td>1.0</td>\n",
              "      <td>0.0</td>\n",
              "      <td>1.0</td>\n",
              "      <td>0.0</td>\n",
              "      <td>0.0</td>\n",
              "      <td>0</td>\n",
              "    </tr>\n",
              "    <tr>\n",
              "      <th>298</th>\n",
              "      <td>0.042705</td>\n",
              "      <td>0.454545</td>\n",
              "      <td>0.166667</td>\n",
              "      <td>0.685714</td>\n",
              "      <td>0.089888</td>\n",
              "      <td>0.304158</td>\n",
              "      <td>0.003700</td>\n",
              "      <td>0.0</td>\n",
              "      <td>0.0</td>\n",
              "      <td>0.0</td>\n",
              "      <td>1.0</td>\n",
              "      <td>1.0</td>\n",
              "      <td>0</td>\n",
              "    </tr>\n",
              "  </tbody>\n",
              "</table>\n",
              "<p>299 rows × 13 columns</p>\n",
              "</div>"
            ],
            "text/plain": [
              "         TIME       Age  Ejection.Fraction  ...  Anaemia   BP  Event\n",
              "0    0.330961  0.054545           0.545455  ...      1.0  0.0      0\n",
              "1    0.626335  0.600000           0.242424  ...      1.0  0.0      0\n",
              "2    0.096085  0.545455           0.090909  ...      0.0  1.0      1\n",
              "3    0.295374  0.454545           0.166667  ...      1.0  0.0      0\n",
              "4    0.387900  0.436364           0.696970  ...      0.0  0.0      0\n",
              "..        ...       ...                ...  ...      ...  ...    ...\n",
              "294  0.875445  0.090909           0.621212  ...      0.0  0.0      0\n",
              "295  0.854093  0.200000           0.393939  ...      0.0  0.0      0\n",
              "296  0.035587  0.090909           0.000000  ...      0.0  0.0      1\n",
              "297  0.270463  0.363636           0.469697  ...      0.0  0.0      0\n",
              "298  0.042705  0.454545           0.166667  ...      1.0  1.0      0\n",
              "\n",
              "[299 rows x 13 columns]"
            ]
          },
          "metadata": {
            "tags": []
          },
          "execution_count": 38
        }
      ]
    },
    {
      "cell_type": "code",
      "metadata": {
        "id": "s2QGlytqf9SB"
      },
      "source": [
        "X,Y = heart_data.iloc[:,:-1], heart_data['Event']"
      ],
      "execution_count": null,
      "outputs": []
    },
    {
      "cell_type": "markdown",
      "metadata": {
        "id": "T76naVHrlnPR"
      },
      "source": [
        "### **Performing Train Test split**"
      ]
    },
    {
      "cell_type": "code",
      "metadata": {
        "colab": {
          "base_uri": "https://localhost:8080/"
        },
        "id": "bZQXeA0olLwj",
        "outputId": "54ba82f9-e7b1-44ce-f655-2ed86a768f6c"
      },
      "source": [
        "x_train, x_test, y_train, y_test = train_test_split(X,Y,test_size=0.3,random_state=1)\n",
        "print(x_train.shape,x_test.shape,y_train.shape,y_test.shape)"
      ],
      "execution_count": null,
      "outputs": [
        {
          "output_type": "stream",
          "text": [
            "(209, 12) (90, 12) (209,) (90,)\n"
          ],
          "name": "stdout"
        }
      ]
    },
    {
      "cell_type": "code",
      "metadata": {
        "colab": {
          "base_uri": "https://localhost:8080/",
          "height": 408
        },
        "id": "ofqA7GvDfGRD",
        "outputId": "9ffd3e04-850d-40b3-be16-6a87a7eb16c2"
      },
      "source": [
        "heart_data"
      ],
      "execution_count": null,
      "outputs": [
        {
          "output_type": "execute_result",
          "data": {
            "text/html": [
              "<div>\n",
              "<style scoped>\n",
              "    .dataframe tbody tr th:only-of-type {\n",
              "        vertical-align: middle;\n",
              "    }\n",
              "\n",
              "    .dataframe tbody tr th {\n",
              "        vertical-align: top;\n",
              "    }\n",
              "\n",
              "    .dataframe thead th {\n",
              "        text-align: right;\n",
              "    }\n",
              "</style>\n",
              "<table border=\"1\" class=\"dataframe\">\n",
              "  <thead>\n",
              "    <tr style=\"text-align: right;\">\n",
              "      <th></th>\n",
              "      <th>TIME</th>\n",
              "      <th>Age</th>\n",
              "      <th>Ejection.Fraction</th>\n",
              "      <th>Sodium</th>\n",
              "      <th>Creatinine</th>\n",
              "      <th>Pletelets</th>\n",
              "      <th>CPK</th>\n",
              "      <th>Gender</th>\n",
              "      <th>Smoking</th>\n",
              "      <th>Diabetes</th>\n",
              "      <th>Anaemia</th>\n",
              "      <th>BP</th>\n",
              "      <th>Event</th>\n",
              "    </tr>\n",
              "  </thead>\n",
              "  <tbody>\n",
              "    <tr>\n",
              "      <th>0</th>\n",
              "      <td>0.330961</td>\n",
              "      <td>0.054545</td>\n",
              "      <td>0.545455</td>\n",
              "      <td>0.628571</td>\n",
              "      <td>0.089888</td>\n",
              "      <td>0.256880</td>\n",
              "      <td>0.042740</td>\n",
              "      <td>0.0</td>\n",
              "      <td>0.0</td>\n",
              "      <td>0.0</td>\n",
              "      <td>1.0</td>\n",
              "      <td>0.0</td>\n",
              "      <td>0</td>\n",
              "    </tr>\n",
              "    <tr>\n",
              "      <th>1</th>\n",
              "      <td>0.626335</td>\n",
              "      <td>0.600000</td>\n",
              "      <td>0.242424</td>\n",
              "      <td>0.828571</td>\n",
              "      <td>0.076404</td>\n",
              "      <td>0.163535</td>\n",
              "      <td>0.026537</td>\n",
              "      <td>1.0</td>\n",
              "      <td>1.0</td>\n",
              "      <td>1.0</td>\n",
              "      <td>1.0</td>\n",
              "      <td>0.0</td>\n",
              "      <td>0</td>\n",
              "    </tr>\n",
              "    <tr>\n",
              "      <th>2</th>\n",
              "      <td>0.096085</td>\n",
              "      <td>0.545455</td>\n",
              "      <td>0.090909</td>\n",
              "      <td>0.600000</td>\n",
              "      <td>0.149438</td>\n",
              "      <td>0.288833</td>\n",
              "      <td>0.071319</td>\n",
              "      <td>1.0</td>\n",
              "      <td>1.0</td>\n",
              "      <td>0.0</td>\n",
              "      <td>0.0</td>\n",
              "      <td>1.0</td>\n",
              "      <td>1</td>\n",
              "    </tr>\n",
              "    <tr>\n",
              "      <th>3</th>\n",
              "      <td>0.295374</td>\n",
              "      <td>0.454545</td>\n",
              "      <td>0.166667</td>\n",
              "      <td>0.800000</td>\n",
              "      <td>0.067416</td>\n",
              "      <td>0.330828</td>\n",
              "      <td>0.035979</td>\n",
              "      <td>1.0</td>\n",
              "      <td>0.0</td>\n",
              "      <td>0.0</td>\n",
              "      <td>1.0</td>\n",
              "      <td>0.0</td>\n",
              "      <td>0</td>\n",
              "    </tr>\n",
              "    <tr>\n",
              "      <th>4</th>\n",
              "      <td>0.387900</td>\n",
              "      <td>0.436364</td>\n",
              "      <td>0.696970</td>\n",
              "      <td>0.685714</td>\n",
              "      <td>0.056180</td>\n",
              "      <td>0.262941</td>\n",
              "      <td>0.202475</td>\n",
              "      <td>1.0</td>\n",
              "      <td>0.0</td>\n",
              "      <td>0.0</td>\n",
              "      <td>0.0</td>\n",
              "      <td>0.0</td>\n",
              "      <td>0</td>\n",
              "    </tr>\n",
              "    <tr>\n",
              "      <th>...</th>\n",
              "      <td>...</td>\n",
              "      <td>...</td>\n",
              "      <td>...</td>\n",
              "      <td>...</td>\n",
              "      <td>...</td>\n",
              "      <td>...</td>\n",
              "      <td>...</td>\n",
              "      <td>...</td>\n",
              "      <td>...</td>\n",
              "      <td>...</td>\n",
              "      <td>...</td>\n",
              "      <td>...</td>\n",
              "      <td>...</td>\n",
              "    </tr>\n",
              "    <tr>\n",
              "      <th>294</th>\n",
              "      <td>0.875445</td>\n",
              "      <td>0.090909</td>\n",
              "      <td>0.621212</td>\n",
              "      <td>0.542857</td>\n",
              "      <td>0.056180</td>\n",
              "      <td>0.627834</td>\n",
              "      <td>0.071319</td>\n",
              "      <td>0.0</td>\n",
              "      <td>0.0</td>\n",
              "      <td>1.0</td>\n",
              "      <td>0.0</td>\n",
              "      <td>0.0</td>\n",
              "      <td>0</td>\n",
              "    </tr>\n",
              "    <tr>\n",
              "      <th>295</th>\n",
              "      <td>0.854093</td>\n",
              "      <td>0.200000</td>\n",
              "      <td>0.393939</td>\n",
              "      <td>0.600000</td>\n",
              "      <td>0.044944</td>\n",
              "      <td>0.237483</td>\n",
              "      <td>0.071319</td>\n",
              "      <td>0.0</td>\n",
              "      <td>0.0</td>\n",
              "      <td>1.0</td>\n",
              "      <td>0.0</td>\n",
              "      <td>0.0</td>\n",
              "      <td>0</td>\n",
              "    </tr>\n",
              "    <tr>\n",
              "      <th>296</th>\n",
              "      <td>0.035587</td>\n",
              "      <td>0.090909</td>\n",
              "      <td>0.000000</td>\n",
              "      <td>0.400000</td>\n",
              "      <td>0.033708</td>\n",
              "      <td>0.170809</td>\n",
              "      <td>0.071319</td>\n",
              "      <td>1.0</td>\n",
              "      <td>0.0</td>\n",
              "      <td>0.0</td>\n",
              "      <td>0.0</td>\n",
              "      <td>0.0</td>\n",
              "      <td>1</td>\n",
              "    </tr>\n",
              "    <tr>\n",
              "      <th>297</th>\n",
              "      <td>0.270463</td>\n",
              "      <td>0.363636</td>\n",
              "      <td>0.469697</td>\n",
              "      <td>0.571429</td>\n",
              "      <td>0.056180</td>\n",
              "      <td>0.329616</td>\n",
              "      <td>0.111508</td>\n",
              "      <td>1.0</td>\n",
              "      <td>0.0</td>\n",
              "      <td>1.0</td>\n",
              "      <td>0.0</td>\n",
              "      <td>0.0</td>\n",
              "      <td>0</td>\n",
              "    </tr>\n",
              "    <tr>\n",
              "      <th>298</th>\n",
              "      <td>0.042705</td>\n",
              "      <td>0.454545</td>\n",
              "      <td>0.166667</td>\n",
              "      <td>0.685714</td>\n",
              "      <td>0.089888</td>\n",
              "      <td>0.304158</td>\n",
              "      <td>0.003700</td>\n",
              "      <td>0.0</td>\n",
              "      <td>0.0</td>\n",
              "      <td>0.0</td>\n",
              "      <td>1.0</td>\n",
              "      <td>1.0</td>\n",
              "      <td>0</td>\n",
              "    </tr>\n",
              "  </tbody>\n",
              "</table>\n",
              "<p>299 rows × 13 columns</p>\n",
              "</div>"
            ],
            "text/plain": [
              "         TIME       Age  Ejection.Fraction  ...  Anaemia   BP  Event\n",
              "0    0.330961  0.054545           0.545455  ...      1.0  0.0      0\n",
              "1    0.626335  0.600000           0.242424  ...      1.0  0.0      0\n",
              "2    0.096085  0.545455           0.090909  ...      0.0  1.0      1\n",
              "3    0.295374  0.454545           0.166667  ...      1.0  0.0      0\n",
              "4    0.387900  0.436364           0.696970  ...      0.0  0.0      0\n",
              "..        ...       ...                ...  ...      ...  ...    ...\n",
              "294  0.875445  0.090909           0.621212  ...      0.0  0.0      0\n",
              "295  0.854093  0.200000           0.393939  ...      0.0  0.0      0\n",
              "296  0.035587  0.090909           0.000000  ...      0.0  0.0      1\n",
              "297  0.270463  0.363636           0.469697  ...      0.0  0.0      0\n",
              "298  0.042705  0.454545           0.166667  ...      1.0  1.0      0\n",
              "\n",
              "[299 rows x 13 columns]"
            ]
          },
          "metadata": {
            "tags": []
          },
          "execution_count": 41
        }
      ]
    },
    {
      "cell_type": "markdown",
      "metadata": {
        "id": "e_3vW9cbm1HS"
      },
      "source": [
        "### **KNN**"
      ]
    },
    {
      "cell_type": "code",
      "metadata": {
        "colab": {
          "base_uri": "https://localhost:8080/"
        },
        "id": "hZpoK6OZm3gU",
        "outputId": "64182ac8-a3b1-4e6c-c127-5ad3065f1a48"
      },
      "source": [
        "#Train Model and Predict  \n",
        "\n",
        "k_ranges = [1,2,3,4,5,6,7,8,9,10]\n",
        "\n",
        "best_k, train_set_accuracies, test_set_accuracies, test_set_predictions = cal_KNN(k_ranges, x_train, y_train, x_test, y_test)"
      ],
      "execution_count": null,
      "outputs": [
        {
          "output_type": "stream",
          "text": [
            "\n",
            "\n",
            "At K = 1 :\n",
            "Train Acc: 1.0 === Test Acc: 0.6888888888888889\n",
            "\n",
            "\n",
            "At K = 2 :\n",
            "Train Acc: 0.7990430622009569 === Test Acc: 0.7222222222222222\n",
            "\n",
            "\n",
            "At K = 3 :\n",
            "Train Acc: 0.84688995215311 === Test Acc: 0.6888888888888889\n",
            "\n",
            "\n",
            "At K = 4 :\n",
            "Train Acc: 0.7607655502392344 === Test Acc: 0.7\n",
            "\n",
            "\n",
            "At K = 5 :\n",
            "Train Acc: 0.7703349282296651 === Test Acc: 0.7222222222222222\n",
            "\n",
            "\n",
            "At K = 6 :\n",
            "Train Acc: 0.7320574162679426 === Test Acc: 0.7222222222222222\n",
            "\n",
            "\n",
            "At K = 7 :\n",
            "Train Acc: 0.7511961722488039 === Test Acc: 0.7\n",
            "\n",
            "\n",
            "At K = 8 :\n",
            "Train Acc: 0.7272727272727273 === Test Acc: 0.7111111111111111\n",
            "\n",
            "\n",
            "At K = 9 :\n",
            "Train Acc: 0.7464114832535885 === Test Acc: 0.7111111111111111\n",
            "\n",
            "\n",
            "At K = 10 :\n",
            "Train Acc: 0.7177033492822966 === Test Acc: 0.7111111111111111\n",
            "\n",
            "Best Performing Value of K is: 2\n"
          ],
          "name": "stdout"
        }
      ]
    },
    {
      "cell_type": "code",
      "metadata": {
        "colab": {
          "base_uri": "https://localhost:8080/",
          "height": 295
        },
        "id": "JiBGMHFAaLeq",
        "outputId": "5727c238-f24f-4c38-e353-60cdeea98c97"
      },
      "source": [
        "plot_k_performance(k_ranges,train_set_accuracies,test_set_accuracies)"
      ],
      "execution_count": null,
      "outputs": [
        {
          "output_type": "display_data",
          "data": {
            "image/png": "[encoded data removed]",
            "text/plain": [
              "<Figure size 432x288 with 1 Axes>"
            ]
          },
          "metadata": {
            "tags": [],
            "needs_background": "light"
          }
        }
      ]
    },
    {
      "cell_type": "code",
      "metadata": {
        "colab": {
          "base_uri": "https://localhost:8080/",
          "height": 311
        },
        "id": "yUkOjvLba9CR",
        "outputId": "234d6e2a-6c2d-41e8-8934-34188299c711"
      },
      "source": [
        "cnf_matrix = confusion_matrix(y_test,test_set_predictions[best_k-1],labels = [0,1])\n",
        "plot_confusion_matrix(cnf_matrix,classes = ['Alive','Dead'])"
      ],
      "execution_count": null,
      "outputs": [
        {
          "output_type": "display_data",
          "data": {
            "image/png": "[encoded data removed]",
            "text/plain": [
              "<Figure size 432x288 with 2 Axes>"
            ]
          },
          "metadata": {
            "tags": [],
            "needs_background": "light"
          }
        }
      ]
    },
    {
      "cell_type": "markdown",
      "metadata": {
        "id": "Z4UvOIaTpF6p"
      },
      "source": [
        "### **Naive Bayes**"
      ]
    },
    {
      "cell_type": "code",
      "metadata": {
        "colab": {
          "base_uri": "https://localhost:8080/"
        },
        "id": "nClA5WD5pKhn",
        "outputId": "3ee969d0-37a4-4e30-f1f6-abaed6b8176f"
      },
      "source": [
        "train_set_accuracy, test_set_accuracy, yhat = calc_NaiveBayes(x_train,y_train,x_test,y_test)"
      ],
      "execution_count": null,
      "outputs": [
        {
          "output_type": "stream",
          "text": [
            "Train set Accuracy:  0.7511961722488039\n",
            "Test set Accuracy:  0.8111111111111111\n"
          ],
          "name": "stdout"
        }
      ]
    },
    {
      "cell_type": "code",
      "metadata": {
        "colab": {
          "base_uri": "https://localhost:8080/",
          "height": 311
        },
        "id": "3X0m4GKGbWE2",
        "outputId": "f22e4f25-d5ef-434b-a9f7-394d976275d5"
      },
      "source": [
        "ax = sns.barplot(x=['Train Set Accuracy','Test Set Accuracy'], y = [train_set_accuracy,test_set_accuracy])\n",
        "ax.set(xlabel = 'Train/Test Accuracy',ylabel = 'Accuracy',title = 'Naive Bayes Performance')\n",
        "plt.ylim(0,1)"
      ],
      "execution_count": null,
      "outputs": [
        {
          "output_type": "execute_result",
          "data": {
            "text/plain": [
              "(0.0, 1.0)"
            ]
          },
          "metadata": {
            "tags": []
          },
          "execution_count": 46
        },
        {
          "output_type": "display_data",
          "data": {
            "image/png": "[encoded data removed]",
            "text/plain": [
              "<Figure size 432x288 with 1 Axes>"
            ]
          },
          "metadata": {
            "tags": [],
            "needs_background": "light"
          }
        }
      ]
    },
    {
      "cell_type": "code",
      "metadata": {
        "colab": {
          "base_uri": "https://localhost:8080/",
          "height": 311
        },
        "id": "rC7zB2W-cYaE",
        "outputId": "62238768-102c-4570-d820-b88050b1ffe0"
      },
      "source": [
        "cnf_matrix = confusion_matrix(y_test,yhat,labels = [0,1])\n",
        "plot_confusion_matrix(cnf_matrix,classes = ['Alive','Dead'])"
      ],
      "execution_count": null,
      "outputs": [
        {
          "output_type": "display_data",
          "data": {
            "image/png": "[encoded data removed]",
            "text/plain": [
              "<Figure size 432x288 with 2 Axes>"
            ]
          },
          "metadata": {
            "tags": [],
            "needs_background": "light"
          }
        }
      ]
    },
    {
      "cell_type": "markdown",
      "metadata": {
        "id": "OCdes2Quctdc"
      },
      "source": [
        "## **Calculating Accuracy with Filter Subset Selection Methods**"
      ]
    },
    {
      "cell_type": "markdown",
      "metadata": {
        "id": "xQNr_PwKePQg"
      },
      "source": [
        "### **For Numerical Input -> Categorical Output (ANNOVA METHOD)**"
      ]
    },
    {
      "cell_type": "code",
      "metadata": {
        "colab": {
          "base_uri": "https://localhost:8080/"
        },
        "id": "UvLTUjaLdAqo",
        "outputId": "a99a69a6-ea39-41bb-e118-d04e8931c7a4"
      },
      "source": [
        "# choosing k = 3 best numerical features\n",
        "\n",
        "k = 3 \n",
        "\n",
        "numerical_features = ['TIME','Age','Ejection.Fraction','Sodium','Creatinine','Pletelets','CPK']\n",
        "\n",
        "best_features_obj = SelectKBest(score_func=f_classif,k = k)\n",
        "\n",
        "best_features_obj.fit_transform(X[numerical_features],Y)\n",
        "\n",
        "best_numeric_features = list(compress(numerical_features,list(best_features_obj.get_support())))\n",
        "print('Best Numerical Features:\\n {}'.format(best_numeric_features))"
      ],
      "execution_count": null,
      "outputs": [
        {
          "output_type": "stream",
          "text": [
            "Best Numerical Features:\n",
            " ['TIME', 'Ejection.Fraction', 'Creatinine']\n"
          ],
          "name": "stdout"
        }
      ]
    },
    {
      "cell_type": "markdown",
      "metadata": {
        "id": "1NsWW8q7qTgA"
      },
      "source": [
        "### **For Categorical Input -> Categorical Output (Chi Square)**"
      ]
    },
    {
      "cell_type": "code",
      "metadata": {
        "colab": {
          "base_uri": "https://localhost:8080/"
        },
        "id": "k2vWvaD47-f-",
        "outputId": "b6033c22-3ad5-458d-94f8-bb8e87bcd451"
      },
      "source": [
        "# choosing 3 best categorical features\n",
        "\n",
        "k = 2\n",
        "\n",
        "categorical_features = ['Gender','Smoking','Diabetes','Anaemia','BP']\n",
        "\n",
        "best_features_obj = SelectKBest(score_func=chi2,k = k)\n",
        "\n",
        "best_features_obj.fit_transform(X[categorical_features],Y)\n",
        "\n",
        "best_categoric_features = list(compress(categorical_features,list(best_features_obj.get_support())))\n",
        "print('Best Categorical Features:\\n {}'.format(best_categoric_features))"
      ],
      "execution_count": null,
      "outputs": [
        {
          "output_type": "stream",
          "text": [
            "Best Categorical Features:\n",
            " ['Anaemia', 'BP']\n"
          ],
          "name": "stdout"
        }
      ]
    },
    {
      "cell_type": "markdown",
      "metadata": {
        "id": "YEZKZ2hxhms7"
      },
      "source": [
        "**Combining both best numerical and categorical features into a single dataframe**"
      ]
    },
    {
      "cell_type": "code",
      "metadata": {
        "colab": {
          "base_uri": "https://localhost:8080/",
          "height": 408
        },
        "id": "iEJ-3ICoyjKC",
        "outputId": "8d67bb43-9e69-4433-c54c-156a01decbc6"
      },
      "source": [
        "best_features = list()\n",
        "best_features.extend(best_numeric_features)\n",
        "best_features.extend(best_categoric_features)\n",
        "\n",
        "best_data_set = heart_data[best_features]\n",
        "best_data_set "
      ],
      "execution_count": null,
      "outputs": [
        {
          "output_type": "execute_result",
          "data": {
            "text/html": [
              "<div>\n",
              "<style scoped>\n",
              "    .dataframe tbody tr th:only-of-type {\n",
              "        vertical-align: middle;\n",
              "    }\n",
              "\n",
              "    .dataframe tbody tr th {\n",
              "        vertical-align: top;\n",
              "    }\n",
              "\n",
              "    .dataframe thead th {\n",
              "        text-align: right;\n",
              "    }\n",
              "</style>\n",
              "<table border=\"1\" class=\"dataframe\">\n",
              "  <thead>\n",
              "    <tr style=\"text-align: right;\">\n",
              "      <th></th>\n",
              "      <th>TIME</th>\n",
              "      <th>Ejection.Fraction</th>\n",
              "      <th>Creatinine</th>\n",
              "      <th>Anaemia</th>\n",
              "      <th>BP</th>\n",
              "    </tr>\n",
              "  </thead>\n",
              "  <tbody>\n",
              "    <tr>\n",
              "      <th>0</th>\n",
              "      <td>0.330961</td>\n",
              "      <td>0.545455</td>\n",
              "      <td>0.089888</td>\n",
              "      <td>1.0</td>\n",
              "      <td>0.0</td>\n",
              "    </tr>\n",
              "    <tr>\n",
              "      <th>1</th>\n",
              "      <td>0.626335</td>\n",
              "      <td>0.242424</td>\n",
              "      <td>0.076404</td>\n",
              "      <td>1.0</td>\n",
              "      <td>0.0</td>\n",
              "    </tr>\n",
              "    <tr>\n",
              "      <th>2</th>\n",
              "      <td>0.096085</td>\n",
              "      <td>0.090909</td>\n",
              "      <td>0.149438</td>\n",
              "      <td>0.0</td>\n",
              "      <td>1.0</td>\n",
              "    </tr>\n",
              "    <tr>\n",
              "      <th>3</th>\n",
              "      <td>0.295374</td>\n",
              "      <td>0.166667</td>\n",
              "      <td>0.067416</td>\n",
              "      <td>1.0</td>\n",
              "      <td>0.0</td>\n",
              "    </tr>\n",
              "    <tr>\n",
              "      <th>4</th>\n",
              "      <td>0.387900</td>\n",
              "      <td>0.696970</td>\n",
              "      <td>0.056180</td>\n",
              "      <td>0.0</td>\n",
              "      <td>0.0</td>\n",
              "    </tr>\n",
              "    <tr>\n",
              "      <th>...</th>\n",
              "      <td>...</td>\n",
              "      <td>...</td>\n",
              "      <td>...</td>\n",
              "      <td>...</td>\n",
              "      <td>...</td>\n",
              "    </tr>\n",
              "    <tr>\n",
              "      <th>294</th>\n",
              "      <td>0.875445</td>\n",
              "      <td>0.621212</td>\n",
              "      <td>0.056180</td>\n",
              "      <td>0.0</td>\n",
              "      <td>0.0</td>\n",
              "    </tr>\n",
              "    <tr>\n",
              "      <th>295</th>\n",
              "      <td>0.854093</td>\n",
              "      <td>0.393939</td>\n",
              "      <td>0.044944</td>\n",
              "      <td>0.0</td>\n",
              "      <td>0.0</td>\n",
              "    </tr>\n",
              "    <tr>\n",
              "      <th>296</th>\n",
              "      <td>0.035587</td>\n",
              "      <td>0.000000</td>\n",
              "      <td>0.033708</td>\n",
              "      <td>0.0</td>\n",
              "      <td>0.0</td>\n",
              "    </tr>\n",
              "    <tr>\n",
              "      <th>297</th>\n",
              "      <td>0.270463</td>\n",
              "      <td>0.469697</td>\n",
              "      <td>0.056180</td>\n",
              "      <td>0.0</td>\n",
              "      <td>0.0</td>\n",
              "    </tr>\n",
              "    <tr>\n",
              "      <th>298</th>\n",
              "      <td>0.042705</td>\n",
              "      <td>0.166667</td>\n",
              "      <td>0.089888</td>\n",
              "      <td>1.0</td>\n",
              "      <td>1.0</td>\n",
              "    </tr>\n",
              "  </tbody>\n",
              "</table>\n",
              "<p>299 rows × 5 columns</p>\n",
              "</div>"
            ],
            "text/plain": [
              "         TIME  Ejection.Fraction  Creatinine  Anaemia   BP\n",
              "0    0.330961           0.545455    0.089888      1.0  0.0\n",
              "1    0.626335           0.242424    0.076404      1.0  0.0\n",
              "2    0.096085           0.090909    0.149438      0.0  1.0\n",
              "3    0.295374           0.166667    0.067416      1.0  0.0\n",
              "4    0.387900           0.696970    0.056180      0.0  0.0\n",
              "..        ...                ...         ...      ...  ...\n",
              "294  0.875445           0.621212    0.056180      0.0  0.0\n",
              "295  0.854093           0.393939    0.044944      0.0  0.0\n",
              "296  0.035587           0.000000    0.033708      0.0  0.0\n",
              "297  0.270463           0.469697    0.056180      0.0  0.0\n",
              "298  0.042705           0.166667    0.089888      1.0  1.0\n",
              "\n",
              "[299 rows x 5 columns]"
            ]
          },
          "metadata": {
            "tags": []
          },
          "execution_count": 50
        }
      ]
    },
    {
      "cell_type": "markdown",
      "metadata": {
        "id": "Vi-Ma14MixqM"
      },
      "source": [
        "### **Checking Performance on both Models**"
      ]
    },
    {
      "cell_type": "code",
      "metadata": {
        "colab": {
          "base_uri": "https://localhost:8080/"
        },
        "id": "TQKafPOBy7jV",
        "outputId": "83af80cb-5f5d-48fe-82aa-6ad3b7f4ba37"
      },
      "source": [
        "x_train, x_test, y_train, y_test = train_test_split(best_data_set,Y,test_size=0.3,random_state=1)\n",
        "print(x_train.shape,x_test.shape,y_train.shape,y_test.shape)"
      ],
      "execution_count": null,
      "outputs": [
        {
          "output_type": "stream",
          "text": [
            "(209, 5) (90, 5) (209,) (90,)\n"
          ],
          "name": "stdout"
        }
      ]
    },
    {
      "cell_type": "code",
      "metadata": {
        "colab": {
          "base_uri": "https://localhost:8080/"
        },
        "id": "Nqu1qfYCy20n",
        "outputId": "404b09c3-b121-46a7-b5e2-dcb356f9e065"
      },
      "source": [
        "#Train Model and Predict  \n",
        "\n",
        "k_ranges = [1,2,3,4,5,6,7,8,9,10]\n",
        "\n",
        "best_k, train_set_accuracies, test_set_accuracies, test_set_predictions = cal_KNN(k_ranges, x_train, y_train, x_test, y_test)"
      ],
      "execution_count": null,
      "outputs": [
        {
          "output_type": "stream",
          "text": [
            "\n",
            "\n",
            "At K = 1 :\n",
            "Train Acc: 1.0 === Test Acc: 0.7444444444444445\n",
            "\n",
            "\n",
            "At K = 2 :\n",
            "Train Acc: 0.8899521531100478 === Test Acc: 0.7666666666666667\n",
            "\n",
            "\n",
            "At K = 3 :\n",
            "Train Acc: 0.8995215311004785 === Test Acc: 0.8\n",
            "\n",
            "\n",
            "At K = 4 :\n",
            "Train Acc: 0.8899521531100478 === Test Acc: 0.8111111111111111\n",
            "\n",
            "\n",
            "At K = 5 :\n",
            "Train Acc: 0.8755980861244019 === Test Acc: 0.8111111111111111\n",
            "\n",
            "\n",
            "At K = 6 :\n",
            "Train Acc: 0.8516746411483254 === Test Acc: 0.8111111111111111\n",
            "\n",
            "\n",
            "At K = 7 :\n",
            "Train Acc: 0.861244019138756 === Test Acc: 0.8\n",
            "\n",
            "\n",
            "At K = 8 :\n",
            "Train Acc: 0.84688995215311 === Test Acc: 0.7888888888888889\n",
            "\n",
            "\n",
            "At K = 9 :\n",
            "Train Acc: 0.8660287081339713 === Test Acc: 0.7888888888888889\n",
            "\n",
            "\n",
            "At K = 10 :\n",
            "Train Acc: 0.84688995215311 === Test Acc: 0.8\n",
            "\n",
            "Best Performing Value of K is: 4\n"
          ],
          "name": "stdout"
        }
      ]
    },
    {
      "cell_type": "code",
      "metadata": {
        "colab": {
          "base_uri": "https://localhost:8080/",
          "height": 295
        },
        "id": "iy0IPm9CjIeJ",
        "outputId": "fc8d3601-c01c-446e-a9e3-16fb1c4f3f46"
      },
      "source": [
        "plot_k_performance(k_ranges,train_set_accuracies,test_set_accuracies)"
      ],
      "execution_count": null,
      "outputs": [
        {
          "output_type": "display_data",
          "data": {
            "image/png": "[encoded data removed]",
            "text/plain": [
              "<Figure size 432x288 with 1 Axes>"
            ]
          },
          "metadata": {
            "tags": [],
            "needs_background": "light"
          }
        }
      ]
    },
    {
      "cell_type": "code",
      "metadata": {
        "id": "vZdqS2cufNN7",
        "colab": {
          "base_uri": "https://localhost:8080/",
          "height": 311
        },
        "outputId": "9ef6df3a-f180-4c1c-9837-4dfd98d4ff56"
      },
      "source": [
        "cnf_matrix = confusion_matrix(y_test,test_set_predictions[best_k-1],labels = [0,1])\n",
        "plot_confusion_matrix(cnf_matrix,classes = ['Alive','Dead'])"
      ],
      "execution_count": null,
      "outputs": [
        {
          "output_type": "display_data",
          "data": {
            "image/png": "[encoded data removed]",
            "text/plain": [
              "<Figure size 432x288 with 2 Axes>"
            ]
          },
          "metadata": {
            "tags": [],
            "needs_background": "light"
          }
        }
      ]
    },
    {
      "cell_type": "code",
      "metadata": {
        "colab": {
          "base_uri": "https://localhost:8080/"
        },
        "id": "0ztwQ00QzVrZ",
        "outputId": "2b403fa6-2669-4f30-e587-4415c87acdbb"
      },
      "source": [
        "train_set_accuracy, test_set_accuracy, yhat = calc_NaiveBayes(x_train,y_train,x_test,y_test)"
      ],
      "execution_count": null,
      "outputs": [
        {
          "output_type": "stream",
          "text": [
            "Train set Accuracy:  0.8373205741626795\n",
            "Test set Accuracy:  0.7888888888888889\n"
          ],
          "name": "stdout"
        }
      ]
    },
    {
      "cell_type": "code",
      "metadata": {
        "colab": {
          "base_uri": "https://localhost:8080/",
          "height": 311
        },
        "id": "7iR02GCdjavf",
        "outputId": "eba5378a-0e80-495a-8213-6baba743c8a5"
      },
      "source": [
        "ax = sns.barplot(x=['Train Set Accuracy','Test Set Accuracy'], y = [train_set_accuracy,test_set_accuracy])\n",
        "ax.set(xlabel = 'Train / Test Accuracy',ylabel = 'Accuracy',title = 'Naive Bayes Performance')\n",
        "plt.ylim(0,1)"
      ],
      "execution_count": null,
      "outputs": [
        {
          "output_type": "execute_result",
          "data": {
            "text/plain": [
              "(0.0, 1.0)"
            ]
          },
          "metadata": {
            "tags": []
          },
          "execution_count": 56
        },
        {
          "output_type": "display_data",
          "data": {
            "image/png": "[encoded data removed]",
            "text/plain": [
              "<Figure size 432x288 with 1 Axes>"
            ]
          },
          "metadata": {
            "tags": [],
            "needs_background": "light"
          }
        }
      ]
    },
    {
      "cell_type": "code",
      "metadata": {
        "colab": {
          "base_uri": "https://localhost:8080/",
          "height": 311
        },
        "id": "ArlGmnSxeT1r",
        "outputId": "8dd1d600-2c3b-49bf-c5e1-62784c7cf574"
      },
      "source": [
        "cnf_matrix = confusion_matrix(y_test,yhat,labels = [0,1])\n",
        "plot_confusion_matrix(cnf_matrix,classes = ['Alive','Dead'])"
      ],
      "execution_count": null,
      "outputs": [
        {
          "output_type": "display_data",
          "data": {
            "image/png": "[encoded data removed]",
            "text/plain": [
              "<Figure size 432x288 with 2 Axes>"
            ]
          },
          "metadata": {
            "tags": [],
            "needs_background": "light"
          }
        }
      ]
    },
    {
      "cell_type": "markdown",
      "metadata": {
        "id": "yG_VR9ID0Buw"
      },
      "source": [
        "## **Calculating Accuracy with wrapper methods**"
      ]
    },
    {
      "cell_type": "markdown",
      "metadata": {
        "id": "RnX9irVa0xez"
      },
      "source": [
        "### **Recursive Feature Elimination (RFE)**"
      ]
    },
    {
      "cell_type": "code",
      "metadata": {
        "colab": {
          "base_uri": "https://localhost:8080/"
        },
        "id": "bc7S2FCPoYXA",
        "outputId": "5ff369e4-354a-4c67-bdd8-7ad38735961d"
      },
      "source": [
        "selector = RFE(estimator=DecisionTreeClassifier(), n_features_to_select=2, step=1)\n",
        "selector = selector.fit(X, Y)\n",
        "\n",
        "best_features = X.columns[selector.support_]\n",
        "best_features"
      ],
      "execution_count": null,
      "outputs": [
        {
          "output_type": "execute_result",
          "data": {
            "text/plain": [
              "Index(['TIME', 'CPK'], dtype='object')"
            ]
          },
          "metadata": {
            "tags": []
          },
          "execution_count": 58
        }
      ]
    },
    {
      "cell_type": "code",
      "metadata": {
        "colab": {
          "base_uri": "https://localhost:8080/",
          "height": 408
        },
        "id": "Aluyjafz1pWj",
        "outputId": "9a068d3f-2b18-4e14-c39c-58de89fb1330"
      },
      "source": [
        "best_data_set = heart_data[best_features]\n",
        "best_data_set"
      ],
      "execution_count": null,
      "outputs": [
        {
          "output_type": "execute_result",
          "data": {
            "text/html": [
              "<div>\n",
              "<style scoped>\n",
              "    .dataframe tbody tr th:only-of-type {\n",
              "        vertical-align: middle;\n",
              "    }\n",
              "\n",
              "    .dataframe tbody tr th {\n",
              "        vertical-align: top;\n",
              "    }\n",
              "\n",
              "    .dataframe thead th {\n",
              "        text-align: right;\n",
              "    }\n",
              "</style>\n",
              "<table border=\"1\" class=\"dataframe\">\n",
              "  <thead>\n",
              "    <tr style=\"text-align: right;\">\n",
              "      <th></th>\n",
              "      <th>TIME</th>\n",
              "      <th>CPK</th>\n",
              "    </tr>\n",
              "  </thead>\n",
              "  <tbody>\n",
              "    <tr>\n",
              "      <th>0</th>\n",
              "      <td>0.330961</td>\n",
              "      <td>0.042740</td>\n",
              "    </tr>\n",
              "    <tr>\n",
              "      <th>1</th>\n",
              "      <td>0.626335</td>\n",
              "      <td>0.026537</td>\n",
              "    </tr>\n",
              "    <tr>\n",
              "      <th>2</th>\n",
              "      <td>0.096085</td>\n",
              "      <td>0.071319</td>\n",
              "    </tr>\n",
              "    <tr>\n",
              "      <th>3</th>\n",
              "      <td>0.295374</td>\n",
              "      <td>0.035979</td>\n",
              "    </tr>\n",
              "    <tr>\n",
              "      <th>4</th>\n",
              "      <td>0.387900</td>\n",
              "      <td>0.202475</td>\n",
              "    </tr>\n",
              "    <tr>\n",
              "      <th>...</th>\n",
              "      <td>...</td>\n",
              "      <td>...</td>\n",
              "    </tr>\n",
              "    <tr>\n",
              "      <th>294</th>\n",
              "      <td>0.875445</td>\n",
              "      <td>0.071319</td>\n",
              "    </tr>\n",
              "    <tr>\n",
              "      <th>295</th>\n",
              "      <td>0.854093</td>\n",
              "      <td>0.071319</td>\n",
              "    </tr>\n",
              "    <tr>\n",
              "      <th>296</th>\n",
              "      <td>0.035587</td>\n",
              "      <td>0.071319</td>\n",
              "    </tr>\n",
              "    <tr>\n",
              "      <th>297</th>\n",
              "      <td>0.270463</td>\n",
              "      <td>0.111508</td>\n",
              "    </tr>\n",
              "    <tr>\n",
              "      <th>298</th>\n",
              "      <td>0.042705</td>\n",
              "      <td>0.003700</td>\n",
              "    </tr>\n",
              "  </tbody>\n",
              "</table>\n",
              "<p>299 rows × 2 columns</p>\n",
              "</div>"
            ],
            "text/plain": [
              "         TIME       CPK\n",
              "0    0.330961  0.042740\n",
              "1    0.626335  0.026537\n",
              "2    0.096085  0.071319\n",
              "3    0.295374  0.035979\n",
              "4    0.387900  0.202475\n",
              "..        ...       ...\n",
              "294  0.875445  0.071319\n",
              "295  0.854093  0.071319\n",
              "296  0.035587  0.071319\n",
              "297  0.270463  0.111508\n",
              "298  0.042705  0.003700\n",
              "\n",
              "[299 rows x 2 columns]"
            ]
          },
          "metadata": {
            "tags": []
          },
          "execution_count": 59
        }
      ]
    },
    {
      "cell_type": "code",
      "metadata": {
        "colab": {
          "base_uri": "https://localhost:8080/"
        },
        "id": "L7mluZP82Oif",
        "outputId": "5cd52362-60f7-4a06-c550-e65e7f799103"
      },
      "source": [
        "x_train, x_test, y_train, y_test = train_test_split(best_data_set,Y,test_size=0.3,random_state=1)\n",
        "print(x_train.shape,x_test.shape,y_train.shape,y_test.shape)"
      ],
      "execution_count": null,
      "outputs": [
        {
          "output_type": "stream",
          "text": [
            "(209, 2) (90, 2) (209,) (90,)\n"
          ],
          "name": "stdout"
        }
      ]
    },
    {
      "cell_type": "code",
      "metadata": {
        "colab": {
          "base_uri": "https://localhost:8080/"
        },
        "id": "h9d8gwZz2URj",
        "outputId": "26f79b20-fb35-47c1-97c6-a8e82b82aef7"
      },
      "source": [
        "#Train Model and Predict  \n",
        "\n",
        "k_ranges = [1,2,3,4,5,6,7,8,9,10]\n",
        "\n",
        "best_k, train_set_accuracies, test_set_accuracies, test_set_predictions = cal_KNN(k_ranges, x_train, y_train, x_test, y_test)"
      ],
      "execution_count": null,
      "outputs": [
        {
          "output_type": "stream",
          "text": [
            "\n",
            "\n",
            "At K = 1 :\n",
            "Train Acc: 0.9952153110047847 === Test Acc: 0.7333333333333333\n",
            "\n",
            "\n",
            "At K = 2 :\n",
            "Train Acc: 0.8899521531100478 === Test Acc: 0.7888888888888889\n",
            "\n",
            "\n",
            "At K = 3 :\n",
            "Train Acc: 0.8755980861244019 === Test Acc: 0.7777777777777778\n",
            "\n",
            "\n",
            "At K = 4 :\n",
            "Train Acc: 0.8660287081339713 === Test Acc: 0.8111111111111111\n",
            "\n",
            "\n",
            "At K = 5 :\n",
            "Train Acc: 0.861244019138756 === Test Acc: 0.8111111111111111\n",
            "\n",
            "\n",
            "At K = 6 :\n",
            "Train Acc: 0.84688995215311 === Test Acc: 0.8333333333333334\n",
            "\n",
            "\n",
            "At K = 7 :\n",
            "Train Acc: 0.84688995215311 === Test Acc: 0.8333333333333334\n",
            "\n",
            "\n",
            "At K = 8 :\n",
            "Train Acc: 0.8421052631578947 === Test Acc: 0.8222222222222222\n",
            "\n",
            "\n",
            "At K = 9 :\n",
            "Train Acc: 0.84688995215311 === Test Acc: 0.8222222222222222\n",
            "\n",
            "\n",
            "At K = 10 :\n",
            "Train Acc: 0.8373205741626795 === Test Acc: 0.8222222222222222\n",
            "\n",
            "Best Performing Value of K is: 6\n"
          ],
          "name": "stdout"
        }
      ]
    },
    {
      "cell_type": "code",
      "metadata": {
        "colab": {
          "base_uri": "https://localhost:8080/",
          "height": 295
        },
        "id": "GOZ8q0VrtbGQ",
        "outputId": "1d6e2be9-df31-4d48-f2b3-c3a2561c2e18"
      },
      "source": [
        "plot_k_performance(k_ranges,train_set_accuracies,test_set_accuracies)"
      ],
      "execution_count": null,
      "outputs": [
        {
          "output_type": "display_data",
          "data": {
            "image/png": "[encoded data removed]",
            "text/plain": [
              "<Figure size 432x288 with 1 Axes>"
            ]
          },
          "metadata": {
            "tags": [],
            "needs_background": "light"
          }
        }
      ]
    },
    {
      "cell_type": "code",
      "metadata": {
        "colab": {
          "base_uri": "https://localhost:8080/",
          "height": 311
        },
        "id": "YoCT6bNyfPKA",
        "outputId": "9f956d49-8181-419a-aec5-6010aa126abd"
      },
      "source": [
        "cnf_matrix = confusion_matrix(y_test,test_set_predictions[best_k-1],labels = [0,1])\n",
        "plot_confusion_matrix(cnf_matrix,classes = ['Alive','Dead'])"
      ],
      "execution_count": null,
      "outputs": [
        {
          "output_type": "display_data",
          "data": {
            "image/png": "[encoded data removed]",
            "text/plain": [
              "<Figure size 432x288 with 2 Axes>"
            ]
          },
          "metadata": {
            "tags": [],
            "needs_background": "light"
          }
        }
      ]
    },
    {
      "cell_type": "code",
      "metadata": {
        "colab": {
          "base_uri": "https://localhost:8080/"
        },
        "id": "0gzbzHsh2aXH",
        "outputId": "55a5505d-0055-472d-8281-3d805f1f4a6a"
      },
      "source": [
        "train_set_accuracy, test_set_accuracy, yhat = calc_NaiveBayes(x_train,y_train,x_test,y_test)"
      ],
      "execution_count": null,
      "outputs": [
        {
          "output_type": "stream",
          "text": [
            "Train set Accuracy:  0.7990430622009569\n",
            "Test set Accuracy:  0.8111111111111111\n"
          ],
          "name": "stdout"
        }
      ]
    },
    {
      "cell_type": "code",
      "metadata": {
        "colab": {
          "base_uri": "https://localhost:8080/",
          "height": 311
        },
        "id": "OQEschFpthdt",
        "outputId": "07f6a142-becd-43d5-c6ae-1712e0f1f188"
      },
      "source": [
        "ax = sns.barplot(x=['Train Set Accuracy','Test Set Accuracy'], y = [train_set_accuracy,test_set_accuracy])\n",
        "ax.set(xlabel = 'Train / Test Accuracy',ylabel = 'Accuracy',title = 'Naive Bayes Performance')\n",
        "plt.ylim(0,1)"
      ],
      "execution_count": null,
      "outputs": [
        {
          "output_type": "execute_result",
          "data": {
            "text/plain": [
              "(0.0, 1.0)"
            ]
          },
          "metadata": {
            "tags": []
          },
          "execution_count": 65
        },
        {
          "output_type": "display_data",
          "data": {
            "image/png": "[encoded data removed]",
            "text/plain": [
              "<Figure size 432x288 with 1 Axes>"
            ]
          },
          "metadata": {
            "tags": [],
            "needs_background": "light"
          }
        }
      ]
    },
    {
      "cell_type": "code",
      "metadata": {
        "colab": {
          "base_uri": "https://localhost:8080/",
          "height": 311
        },
        "id": "lZk6ja5HfWlO",
        "outputId": "3f53981b-d378-4ac8-f9b7-6dce9c301332"
      },
      "source": [
        "cnf_matrix = confusion_matrix(y_test,yhat,labels = [0,1])\n",
        "plot_confusion_matrix(cnf_matrix,classes = ['Alive','Dead'])"
      ],
      "execution_count": null,
      "outputs": [
        {
          "output_type": "display_data",
          "data": {
            "image/png": "[encoded data removed]",
            "text/plain": [
              "<Figure size 432x288 with 2 Axes>"
            ]
          },
          "metadata": {
            "tags": [],
            "needs_background": "light"
          }
        }
      ]
    },
    {
      "cell_type": "markdown",
      "metadata": {
        "id": "no5LVAlv9bfM"
      },
      "source": [
        "## **Hybrid Methods**"
      ]
    },
    {
      "cell_type": "markdown",
      "metadata": {
        "id": "JTpvH23n9f_M"
      },
      "source": [
        "### **Trees(Information Gain)**"
      ]
    },
    {
      "cell_type": "code",
      "metadata": {
        "colab": {
          "base_uri": "https://localhost:8080/"
        },
        "id": "nS-bubtS9eh0",
        "outputId": "30ab2340-0b02-4588-f2b8-bd3dd52cf310"
      },
      "source": [
        "n = 2 # 2 best features\n",
        "\n",
        "model = RandomForestClassifier(n_estimators=332)\n",
        "model.fit(X,Y)\n",
        "\n",
        "importances = model.feature_importances_ \n",
        "importances\n",
        "\n",
        "df = pd.DataFrame(data={'Features':X.columns,'Importances':importances})\n",
        "df.sort_values('Importances',ascending=False,inplace=True)\n",
        "\n",
        "best_features = df.nlargest(n,'Importances')['Features'].values\n",
        "best_features"
      ],
      "execution_count": null,
      "outputs": [
        {
          "output_type": "execute_result",
          "data": {
            "text/plain": [
              "array(['TIME', 'Creatinine'], dtype=object)"
            ]
          },
          "metadata": {
            "tags": []
          },
          "execution_count": 67
        }
      ]
    },
    {
      "cell_type": "code",
      "metadata": {
        "id": "mH6opERB_JdW"
      },
      "source": [
        "best_data = heart_data[best_features]"
      ],
      "execution_count": null,
      "outputs": []
    },
    {
      "cell_type": "code",
      "metadata": {
        "colab": {
          "base_uri": "https://localhost:8080/"
        },
        "id": "-UylF-HU_Sm3",
        "outputId": "8b9be040-b875-47e7-d04f-42401ebc809b"
      },
      "source": [
        "x_train, x_test, y_train, y_test = train_test_split(best_data,Y,test_size=0.3,random_state=1)\n",
        "print(x_train.shape,x_test.shape,y_train.shape,y_test.shape)"
      ],
      "execution_count": null,
      "outputs": [
        {
          "output_type": "stream",
          "text": [
            "(209, 2) (90, 2) (209,) (90,)\n"
          ],
          "name": "stdout"
        }
      ]
    },
    {
      "cell_type": "code",
      "metadata": {
        "colab": {
          "base_uri": "https://localhost:8080/"
        },
        "id": "dLax1wO6_T5b",
        "outputId": "bb8e161e-7b8d-44d4-d688-e8d1c28ea5ad"
      },
      "source": [
        "#Train Model and Predict  \n",
        "\n",
        "k_ranges = [1,2,3,4,5,6,7,8,9,10]\n",
        "\n",
        "best_k, train_set_accuracies, test_set_accuracies, test_set_predictions = cal_KNN(k_ranges, x_train, y_train, x_test, y_test)"
      ],
      "execution_count": null,
      "outputs": [
        {
          "output_type": "stream",
          "text": [
            "\n",
            "\n",
            "At K = 1 :\n",
            "Train Acc: 1.0 === Test Acc: 0.8\n",
            "\n",
            "\n",
            "At K = 2 :\n",
            "Train Acc: 0.8708133971291866 === Test Acc: 0.7888888888888889\n",
            "\n",
            "\n",
            "At K = 3 :\n",
            "Train Acc: 0.9043062200956937 === Test Acc: 0.8444444444444444\n",
            "\n",
            "\n",
            "At K = 4 :\n",
            "Train Acc: 0.8564593301435407 === Test Acc: 0.7888888888888889\n",
            "\n",
            "\n",
            "At K = 5 :\n",
            "Train Acc: 0.8660287081339713 === Test Acc: 0.8555555555555555\n",
            "\n",
            "\n",
            "At K = 6 :\n",
            "Train Acc: 0.8516746411483254 === Test Acc: 0.8333333333333334\n",
            "\n",
            "\n",
            "At K = 7 :\n",
            "Train Acc: 0.8564593301435407 === Test Acc: 0.8555555555555555\n",
            "\n",
            "\n",
            "At K = 8 :\n",
            "Train Acc: 0.8516746411483254 === Test Acc: 0.8333333333333334\n",
            "\n",
            "\n",
            "At K = 9 :\n",
            "Train Acc: 0.8516746411483254 === Test Acc: 0.8333333333333334\n",
            "\n",
            "\n",
            "At K = 10 :\n",
            "Train Acc: 0.8564593301435407 === Test Acc: 0.8333333333333334\n",
            "\n",
            "Best Performing Value of K is: 5\n"
          ],
          "name": "stdout"
        }
      ]
    },
    {
      "cell_type": "code",
      "metadata": {
        "colab": {
          "base_uri": "https://localhost:8080/",
          "height": 295
        },
        "id": "u0EyMa5TuQKB",
        "outputId": "90ed7a9d-4036-4d4b-b6d2-118624d59f1f"
      },
      "source": [
        "plot_k_performance(k_ranges,train_set_accuracies,test_set_accuracies)"
      ],
      "execution_count": null,
      "outputs": [
        {
          "output_type": "display_data",
          "data": {
            "image/png": "[encoded data removed]",
            "text/plain": [
              "<Figure size 432x288 with 1 Axes>"
            ]
          },
          "metadata": {
            "tags": [],
            "needs_background": "light"
          }
        }
      ]
    },
    {
      "cell_type": "code",
      "metadata": {
        "colab": {
          "base_uri": "https://localhost:8080/",
          "height": 311
        },
        "id": "mzTYLls_fibh",
        "outputId": "67245e70-cfce-48c4-ffcc-68e93016efad"
      },
      "source": [
        "cnf_matrix = confusion_matrix(y_test,test_set_predictions[best_k-1],labels = [0,1])\n",
        "plot_confusion_matrix(cnf_matrix,classes = ['Alive','Dead'])"
      ],
      "execution_count": null,
      "outputs": [
        {
          "output_type": "display_data",
          "data": {
            "image/png": "[encoded data removed]",
            "text/plain": [
              "<Figure size 432x288 with 2 Axes>"
            ]
          },
          "metadata": {
            "tags": [],
            "needs_background": "light"
          }
        }
      ]
    },
    {
      "cell_type": "code",
      "metadata": {
        "colab": {
          "base_uri": "https://localhost:8080/"
        },
        "id": "UeiIlM3m_XUH",
        "outputId": "8071730c-de13-447f-fd50-81f2d934239e"
      },
      "source": [
        "train_set_accuracy, test_set_accuracy, yhat = calc_NaiveBayes(x_train,y_train,x_test,y_test)"
      ],
      "execution_count": null,
      "outputs": [
        {
          "output_type": "stream",
          "text": [
            "Train set Accuracy:  0.8038277511961722\n",
            "Test set Accuracy:  0.8222222222222222\n"
          ],
          "name": "stdout"
        }
      ]
    },
    {
      "cell_type": "code",
      "metadata": {
        "colab": {
          "base_uri": "https://localhost:8080/",
          "height": 311
        },
        "id": "p9E3-W0cuZ4u",
        "outputId": "2611ffb1-aecc-44ab-f81f-efb41f7b1e0c"
      },
      "source": [
        "ax = sns.barplot(x=['Train Set Accuracy','Test Set Accuracy'], y = [train_set_accuracy,test_set_accuracy])\n",
        "ax.set(xlabel = 'Train / Test Accuracy',ylabel = 'Accuracy',title = 'Naive Bayes Performance')\n",
        "plt.ylim(0,1)"
      ],
      "execution_count": null,
      "outputs": [
        {
          "output_type": "execute_result",
          "data": {
            "text/plain": [
              "(0.0, 1.0)"
            ]
          },
          "metadata": {
            "tags": []
          },
          "execution_count": 74
        },
        {
          "output_type": "display_data",
          "data": {
            "image/png": "[encoded data removed]",
            "text/plain": [
              "<Figure size 432x288 with 1 Axes>"
            ]
          },
          "metadata": {
            "tags": [],
            "needs_background": "light"
          }
        }
      ]
    },
    {
      "cell_type": "code",
      "metadata": {
        "colab": {
          "base_uri": "https://localhost:8080/",
          "height": 311
        },
        "id": "QzzCGXDefo1B",
        "outputId": "08f116b2-a5de-4054-ceb1-08a73bbd22c0"
      },
      "source": [
        "cnf_matrix = confusion_matrix(y_test,yhat,labels = [0,1])\n",
        "plot_confusion_matrix(cnf_matrix,classes = ['Alive','Dead'])"
      ],
      "execution_count": null,
      "outputs": [
        {
          "output_type": "display_data",
          "data": {
            "image/png": "[encoded data removed]",
            "text/plain": [
              "<Figure size 432x288 with 2 Axes>"
            ]
          },
          "metadata": {
            "tags": [],
            "needs_background": "light"
          }
        }
      ]
    },
    {
      "cell_type": "markdown",
      "metadata": {
        "id": "dwtR3_K-xy6d"
      },
      "source": [
        "# **K-Means Clustering**"
      ]
    },
    {
      "cell_type": "markdown",
      "metadata": {
        "id": "T2J8nBTox2bi"
      },
      "source": [
        "**Now finally lets cluster our dataset based on patient age.**"
      ]
    },
    {
      "cell_type": "code",
      "metadata": {
        "colab": {
          "base_uri": "https://localhost:8080/",
          "height": 408
        },
        "id": "3kP9mktRxwYX",
        "outputId": "e6a3a36b-1562-4402-d4e4-839ee75a8846"
      },
      "source": [
        "k = 3 # dividing into 3 clusters\n",
        "\n",
        "k_means = KMeans(init = \"k-means++\", n_clusters = 3)\n",
        "\n",
        "original_df = pd.read_excel('Heart Attack FD Data.xlsx',usecols=['TIME','Event','Gender','Smoking','Diabetes','BP','Anaemia','Age','Ejection.Fraction','Sodium','Creatinine','Pletelets','CPK'])\n",
        "original_df = original_df[['TIME','Age','Ejection.Fraction','Sodium','Creatinine','Pletelets','CPK','Gender','Smoking','Diabetes','Anaemia','BP','Event']]\n",
        "\n",
        "k_means.fit(original_df[['Age','TIME','Creatinine']])\n",
        "labels = k_means.labels_\n",
        "\n",
        "original_df['Event'] = labels\n",
        "original_df"
      ],
      "execution_count": null,
      "outputs": [
        {
          "output_type": "execute_result",
          "data": {
            "text/html": [
              "<div>\n",
              "<style scoped>\n",
              "    .dataframe tbody tr th:only-of-type {\n",
              "        vertical-align: middle;\n",
              "    }\n",
              "\n",
              "    .dataframe tbody tr th {\n",
              "        vertical-align: top;\n",
              "    }\n",
              "\n",
              "    .dataframe thead th {\n",
              "        text-align: right;\n",
              "    }\n",
              "</style>\n",
              "<table border=\"1\" class=\"dataframe\">\n",
              "  <thead>\n",
              "    <tr style=\"text-align: right;\">\n",
              "      <th></th>\n",
              "      <th>TIME</th>\n",
              "      <th>Age</th>\n",
              "      <th>Ejection.Fraction</th>\n",
              "      <th>Sodium</th>\n",
              "      <th>Creatinine</th>\n",
              "      <th>Pletelets</th>\n",
              "      <th>CPK</th>\n",
              "      <th>Gender</th>\n",
              "      <th>Smoking</th>\n",
              "      <th>Diabetes</th>\n",
              "      <th>Anaemia</th>\n",
              "      <th>BP</th>\n",
              "      <th>Event</th>\n",
              "    </tr>\n",
              "  </thead>\n",
              "  <tbody>\n",
              "    <tr>\n",
              "      <th>0</th>\n",
              "      <td>97</td>\n",
              "      <td>43.0</td>\n",
              "      <td>50</td>\n",
              "      <td>135</td>\n",
              "      <td>1.30</td>\n",
              "      <td>237000.00</td>\n",
              "      <td>358</td>\n",
              "      <td>0</td>\n",
              "      <td>0</td>\n",
              "      <td>0</td>\n",
              "      <td>1</td>\n",
              "      <td>0</td>\n",
              "      <td>2</td>\n",
              "    </tr>\n",
              "    <tr>\n",
              "      <th>1</th>\n",
              "      <td>180</td>\n",
              "      <td>73.0</td>\n",
              "      <td>30</td>\n",
              "      <td>142</td>\n",
              "      <td>1.18</td>\n",
              "      <td>160000.00</td>\n",
              "      <td>231</td>\n",
              "      <td>1</td>\n",
              "      <td>1</td>\n",
              "      <td>1</td>\n",
              "      <td>1</td>\n",
              "      <td>0</td>\n",
              "      <td>1</td>\n",
              "    </tr>\n",
              "    <tr>\n",
              "      <th>2</th>\n",
              "      <td>31</td>\n",
              "      <td>70.0</td>\n",
              "      <td>20</td>\n",
              "      <td>134</td>\n",
              "      <td>1.83</td>\n",
              "      <td>263358.03</td>\n",
              "      <td>582</td>\n",
              "      <td>1</td>\n",
              "      <td>1</td>\n",
              "      <td>0</td>\n",
              "      <td>0</td>\n",
              "      <td>1</td>\n",
              "      <td>0</td>\n",
              "    </tr>\n",
              "    <tr>\n",
              "      <th>3</th>\n",
              "      <td>87</td>\n",
              "      <td>65.0</td>\n",
              "      <td>25</td>\n",
              "      <td>141</td>\n",
              "      <td>1.10</td>\n",
              "      <td>298000.00</td>\n",
              "      <td>305</td>\n",
              "      <td>1</td>\n",
              "      <td>0</td>\n",
              "      <td>0</td>\n",
              "      <td>1</td>\n",
              "      <td>0</td>\n",
              "      <td>2</td>\n",
              "    </tr>\n",
              "    <tr>\n",
              "      <th>4</th>\n",
              "      <td>113</td>\n",
              "      <td>64.0</td>\n",
              "      <td>60</td>\n",
              "      <td>137</td>\n",
              "      <td>1.00</td>\n",
              "      <td>242000.00</td>\n",
              "      <td>1610</td>\n",
              "      <td>1</td>\n",
              "      <td>0</td>\n",
              "      <td>0</td>\n",
              "      <td>0</td>\n",
              "      <td>0</td>\n",
              "      <td>2</td>\n",
              "    </tr>\n",
              "    <tr>\n",
              "      <th>...</th>\n",
              "      <td>...</td>\n",
              "      <td>...</td>\n",
              "      <td>...</td>\n",
              "      <td>...</td>\n",
              "      <td>...</td>\n",
              "      <td>...</td>\n",
              "      <td>...</td>\n",
              "      <td>...</td>\n",
              "      <td>...</td>\n",
              "      <td>...</td>\n",
              "      <td>...</td>\n",
              "      <td>...</td>\n",
              "      <td>...</td>\n",
              "    </tr>\n",
              "    <tr>\n",
              "      <th>294</th>\n",
              "      <td>250</td>\n",
              "      <td>45.0</td>\n",
              "      <td>55</td>\n",
              "      <td>132</td>\n",
              "      <td>1.00</td>\n",
              "      <td>543000.00</td>\n",
              "      <td>582</td>\n",
              "      <td>0</td>\n",
              "      <td>0</td>\n",
              "      <td>1</td>\n",
              "      <td>0</td>\n",
              "      <td>0</td>\n",
              "      <td>1</td>\n",
              "    </tr>\n",
              "    <tr>\n",
              "      <th>295</th>\n",
              "      <td>244</td>\n",
              "      <td>51.0</td>\n",
              "      <td>40</td>\n",
              "      <td>134</td>\n",
              "      <td>0.90</td>\n",
              "      <td>221000.00</td>\n",
              "      <td>582</td>\n",
              "      <td>0</td>\n",
              "      <td>0</td>\n",
              "      <td>1</td>\n",
              "      <td>0</td>\n",
              "      <td>0</td>\n",
              "      <td>1</td>\n",
              "    </tr>\n",
              "    <tr>\n",
              "      <th>296</th>\n",
              "      <td>14</td>\n",
              "      <td>45.0</td>\n",
              "      <td>14</td>\n",
              "      <td>127</td>\n",
              "      <td>0.80</td>\n",
              "      <td>166000.00</td>\n",
              "      <td>582</td>\n",
              "      <td>1</td>\n",
              "      <td>0</td>\n",
              "      <td>0</td>\n",
              "      <td>0</td>\n",
              "      <td>0</td>\n",
              "      <td>0</td>\n",
              "    </tr>\n",
              "    <tr>\n",
              "      <th>297</th>\n",
              "      <td>80</td>\n",
              "      <td>60.0</td>\n",
              "      <td>45</td>\n",
              "      <td>133</td>\n",
              "      <td>1.00</td>\n",
              "      <td>297000.00</td>\n",
              "      <td>897</td>\n",
              "      <td>1</td>\n",
              "      <td>0</td>\n",
              "      <td>1</td>\n",
              "      <td>0</td>\n",
              "      <td>0</td>\n",
              "      <td>2</td>\n",
              "    </tr>\n",
              "    <tr>\n",
              "      <th>298</th>\n",
              "      <td>16</td>\n",
              "      <td>65.0</td>\n",
              "      <td>25</td>\n",
              "      <td>137</td>\n",
              "      <td>1.30</td>\n",
              "      <td>276000.00</td>\n",
              "      <td>52</td>\n",
              "      <td>0</td>\n",
              "      <td>0</td>\n",
              "      <td>0</td>\n",
              "      <td>1</td>\n",
              "      <td>1</td>\n",
              "      <td>0</td>\n",
              "    </tr>\n",
              "  </tbody>\n",
              "</table>\n",
              "<p>299 rows × 13 columns</p>\n",
              "</div>"
            ],
            "text/plain": [
              "     TIME   Age  Ejection.Fraction  Sodium  ...  Diabetes  Anaemia  BP  Event\n",
              "0      97  43.0                 50     135  ...         0        1   0      2\n",
              "1     180  73.0                 30     142  ...         1        1   0      1\n",
              "2      31  70.0                 20     134  ...         0        0   1      0\n",
              "3      87  65.0                 25     141  ...         0        1   0      2\n",
              "4     113  64.0                 60     137  ...         0        0   0      2\n",
              "..    ...   ...                ...     ...  ...       ...      ...  ..    ...\n",
              "294   250  45.0                 55     132  ...         1        0   0      1\n",
              "295   244  51.0                 40     134  ...         1        0   0      1\n",
              "296    14  45.0                 14     127  ...         0        0   0      0\n",
              "297    80  60.0                 45     133  ...         1        0   0      2\n",
              "298    16  65.0                 25     137  ...         0        1   1      0\n",
              "\n",
              "[299 rows x 13 columns]"
            ]
          },
          "metadata": {
            "tags": []
          },
          "execution_count": 77
        }
      ]
    },
    {
      "cell_type": "code",
      "metadata": {
        "colab": {
          "base_uri": "https://localhost:8080/",
          "height": 278
        },
        "id": "8qw30FQEyGnh",
        "outputId": "747798b8-c0d8-4ecd-edcc-7bb4e37fc080"
      },
      "source": [
        "def plot_k_means_clusters(k_means_data):\n",
        "\n",
        "    for cluster in np.unique(k_means_data['Event']):\n",
        "      k_Meancluster = k_means_data[k_means_data['Event'] == cluster]\t\n",
        "      label = 'Cluster {}'.format(int(cluster))\n",
        "      ax = sns.scatterplot(x=k_Meancluster.loc[:,'Age'],y=k_Meancluster.loc[:,'TIME'],label=label)        \n",
        "    plt.show()\n",
        "\n",
        "plot_k_means_clusters(original_df)"
      ],
      "execution_count": null,
      "outputs": [
        {
          "output_type": "display_data",
          "data": {
            "image/png": "[encoded data removed]",
            "text/plain": [
              "<Figure size 432x288 with 1 Axes>"
            ]
          },
          "metadata": {
            "tags": [],
            "needs_background": "light"
          }
        }
      ]
    },
    {
      "cell_type": "markdown",
      "metadata": {
        "id": "v9ZDohcdhL0F"
      },
      "source": [
        "# **Calculating Accuracy using PCA**"
      ]
    },
    {
      "cell_type": "code",
      "metadata": {
        "colab": {
          "base_uri": "https://localhost:8080/",
          "height": 408
        },
        "id": "xF_rfc5beUSD",
        "outputId": "06d5e676-f836-43b6-e8a2-aff9ec627c79"
      },
      "source": [
        "# PCA function\n",
        "def extract_features(features: pd.DataFrame, nfeatures: int):\n",
        "        \"\"\"\n",
        "          This function reduces the dimensions of the dataset to the limit specified by user.\n",
        "          The specified dimensions are returned as Principal components.\n",
        "        \"\"\"\n",
        "        pca_obj = PCA(n_components=nfeatures, random_state=10)\n",
        "        reduced_features = pca_obj.fit_transform(features)\n",
        "        column_list = []\n",
        "        for i in range(reduced_features.shape[1]):\n",
        "            column_list.append('PC'+str(i+1))\n",
        "\n",
        "        reduced_features = pd.DataFrame(reduced_features, columns=column_list)\n",
        "        return reduced_features\n",
        "\n",
        "\n",
        "pca_features = extract_features(heart_data,5)\n",
        "pca_features"
      ],
      "execution_count": null,
      "outputs": [
        {
          "output_type": "execute_result",
          "data": {
            "text/html": [
              "<div>\n",
              "<style scoped>\n",
              "    .dataframe tbody tr th:only-of-type {\n",
              "        vertical-align: middle;\n",
              "    }\n",
              "\n",
              "    .dataframe tbody tr th {\n",
              "        vertical-align: top;\n",
              "    }\n",
              "\n",
              "    .dataframe thead th {\n",
              "        text-align: right;\n",
              "    }\n",
              "</style>\n",
              "<table border=\"1\" class=\"dataframe\">\n",
              "  <thead>\n",
              "    <tr style=\"text-align: right;\">\n",
              "      <th></th>\n",
              "      <th>PC1</th>\n",
              "      <th>PC2</th>\n",
              "      <th>PC3</th>\n",
              "      <th>PC4</th>\n",
              "      <th>PC5</th>\n",
              "    </tr>\n",
              "  </thead>\n",
              "  <tbody>\n",
              "    <tr>\n",
              "      <th>0</th>\n",
              "      <td>0.522514</td>\n",
              "      <td>-0.067845</td>\n",
              "      <td>-0.883362</td>\n",
              "      <td>-0.072644</td>\n",
              "      <td>-0.330101</td>\n",
              "    </tr>\n",
              "    <tr>\n",
              "      <th>1</th>\n",
              "      <td>-0.367885</td>\n",
              "      <td>-0.194779</td>\n",
              "      <td>-0.312471</td>\n",
              "      <td>0.772475</td>\n",
              "      <td>0.737257</td>\n",
              "    </tr>\n",
              "    <tr>\n",
              "      <th>2</th>\n",
              "      <td>-0.702496</td>\n",
              "      <td>0.896808</td>\n",
              "      <td>0.739548</td>\n",
              "      <td>-0.372375</td>\n",
              "      <td>0.008413</td>\n",
              "    </tr>\n",
              "    <tr>\n",
              "      <th>3</th>\n",
              "      <td>-0.120140</td>\n",
              "      <td>0.128385</td>\n",
              "      <td>-0.807180</td>\n",
              "      <td>0.153404</td>\n",
              "      <td>-0.098240</td>\n",
              "    </tr>\n",
              "    <tr>\n",
              "      <th>4</th>\n",
              "      <td>-0.386190</td>\n",
              "      <td>-0.371169</td>\n",
              "      <td>-0.164853</td>\n",
              "      <td>-0.241823</td>\n",
              "      <td>-0.445685</td>\n",
              "    </tr>\n",
              "    <tr>\n",
              "      <th>...</th>\n",
              "      <td>...</td>\n",
              "      <td>...</td>\n",
              "      <td>...</td>\n",
              "      <td>...</td>\n",
              "      <td>...</td>\n",
              "    </tr>\n",
              "    <tr>\n",
              "      <th>294</th>\n",
              "      <td>0.590602</td>\n",
              "      <td>-1.028617</td>\n",
              "      <td>0.187773</td>\n",
              "      <td>0.054665</td>\n",
              "      <td>-0.162675</td>\n",
              "    </tr>\n",
              "    <tr>\n",
              "      <th>295</th>\n",
              "      <td>0.577539</td>\n",
              "      <td>-0.988666</td>\n",
              "      <td>0.199415</td>\n",
              "      <td>0.073182</td>\n",
              "      <td>-0.180072</td>\n",
              "    </tr>\n",
              "    <tr>\n",
              "      <th>296</th>\n",
              "      <td>-0.309105</td>\n",
              "      <td>0.363477</td>\n",
              "      <td>0.370488</td>\n",
              "      <td>0.164813</td>\n",
              "      <td>-0.860024</td>\n",
              "    </tr>\n",
              "    <tr>\n",
              "      <th>297</th>\n",
              "      <td>-0.027618</td>\n",
              "      <td>-0.673986</td>\n",
              "      <td>0.332734</td>\n",
              "      <td>0.320886</td>\n",
              "      <td>0.039305</td>\n",
              "    </tr>\n",
              "    <tr>\n",
              "      <th>298</th>\n",
              "      <td>0.719239</td>\n",
              "      <td>0.485725</td>\n",
              "      <td>-0.516523</td>\n",
              "      <td>-0.661315</td>\n",
              "      <td>0.179471</td>\n",
              "    </tr>\n",
              "  </tbody>\n",
              "</table>\n",
              "<p>299 rows × 5 columns</p>\n",
              "</div>"
            ],
            "text/plain": [
              "          PC1       PC2       PC3       PC4       PC5\n",
              "0    0.522514 -0.067845 -0.883362 -0.072644 -0.330101\n",
              "1   -0.367885 -0.194779 -0.312471  0.772475  0.737257\n",
              "2   -0.702496  0.896808  0.739548 -0.372375  0.008413\n",
              "3   -0.120140  0.128385 -0.807180  0.153404 -0.098240\n",
              "4   -0.386190 -0.371169 -0.164853 -0.241823 -0.445685\n",
              "..        ...       ...       ...       ...       ...\n",
              "294  0.590602 -1.028617  0.187773  0.054665 -0.162675\n",
              "295  0.577539 -0.988666  0.199415  0.073182 -0.180072\n",
              "296 -0.309105  0.363477  0.370488  0.164813 -0.860024\n",
              "297 -0.027618 -0.673986  0.332734  0.320886  0.039305\n",
              "298  0.719239  0.485725 -0.516523 -0.661315  0.179471\n",
              "\n",
              "[299 rows x 5 columns]"
            ]
          },
          "metadata": {
            "tags": []
          },
          "execution_count": 89
        }
      ]
    },
    {
      "cell_type": "code",
      "metadata": {
        "colab": {
          "base_uri": "https://localhost:8080/"
        },
        "id": "jq_XtbBofiaQ",
        "outputId": "4312aeee-768e-431a-fc06-93968ff53c0b"
      },
      "source": [
        "x_train, x_test, y_train, y_test = train_test_split(pca_features,Y,test_size=0.3,random_state=1)\n",
        "print(x_train.shape,x_test.shape,y_train.shape,y_test.shape)"
      ],
      "execution_count": null,
      "outputs": [
        {
          "output_type": "stream",
          "text": [
            "(209, 5) (90, 5) (209,) (90,)\n"
          ],
          "name": "stdout"
        }
      ]
    },
    {
      "cell_type": "code",
      "metadata": {
        "colab": {
          "base_uri": "https://localhost:8080/"
        },
        "id": "owPFl2aofoEN",
        "outputId": "3b3ce323-d856-4336-cb0c-61e15ad592cf"
      },
      "source": [
        "#Train Model and Predict  \n",
        "\n",
        "k_ranges = [3,5,7,9]\n",
        "\n",
        "best_k, train_set_accuracies, test_set_accuracies, test_set_predictions = cal_KNN(k_ranges, x_train, y_train, x_test, y_test)"
      ],
      "execution_count": null,
      "outputs": [
        {
          "output_type": "stream",
          "text": [
            "\n",
            "\n",
            "At K = 3 :\n",
            "Train Acc: 1.0 === Test Acc: 1.0\n",
            "\n",
            "\n",
            "At K = 5 :\n",
            "Train Acc: 0.9952153110047847 === Test Acc: 1.0\n",
            "\n",
            "\n",
            "At K = 7 :\n",
            "Train Acc: 0.9952153110047847 === Test Acc: 1.0\n",
            "\n",
            "\n",
            "At K = 9 :\n",
            "Train Acc: 1.0 === Test Acc: 1.0\n",
            "\n",
            "Best Performing Value of K is: 3\n"
          ],
          "name": "stdout"
        }
      ]
    },
    {
      "cell_type": "code",
      "metadata": {
        "colab": {
          "base_uri": "https://localhost:8080/",
          "height": 295
        },
        "id": "2E-vfCv1nrpM",
        "outputId": "eb6d9de7-61cc-4349-9fe8-6d351bf10a45"
      },
      "source": [
        "plot_k_performance(k_ranges,train_set_accuracies,test_set_accuracies)"
      ],
      "execution_count": null,
      "outputs": [
        {
          "output_type": "display_data",
          "data": {
            "image/png": "[encoded data removed]",
            "text/plain": [
              "<Figure size 432x288 with 1 Axes>"
            ]
          },
          "metadata": {
            "tags": [],
            "needs_background": "light"
          }
        }
      ]
    },
    {
      "cell_type": "code",
      "metadata": {
        "colab": {
          "base_uri": "https://localhost:8080/",
          "height": 311
        },
        "id": "amv_7AvtpMgk",
        "outputId": "c0d6e94c-cb5a-4487-9d81-54f8d6524735"
      },
      "source": [
        "cnf_matrix = confusion_matrix(y_test,test_set_predictions[best_k-1],labels = [0,1])\n",
        "plot_confusion_matrix(cnf_matrix,classes = ['Alive','Dead'])"
      ],
      "execution_count": null,
      "outputs": [
        {
          "output_type": "display_data",
          "data": {
            "image/png": "[encoded data removed]",
            "text/plain": [
              "<Figure size 432x288 with 2 Axes>"
            ]
          },
          "metadata": {
            "tags": [],
            "needs_background": "light"
          }
        }
      ]
    },
    {
      "cell_type": "code",
      "metadata": {
        "colab": {
          "base_uri": "https://localhost:8080/"
        },
        "id": "PXVmrj16pZri",
        "outputId": "ca85d5ad-6791-465f-c433-a49441f51b13"
      },
      "source": [
        "train_set_accuracy, test_set_accuracy, yhat = calc_NaiveBayes(x_train,y_train,x_test,y_test)"
      ],
      "execution_count": null,
      "outputs": [
        {
          "output_type": "stream",
          "text": [
            "Train set Accuracy:  1.0\n",
            "Test set Accuracy:  1.0\n"
          ],
          "name": "stdout"
        }
      ]
    },
    {
      "cell_type": "code",
      "metadata": {
        "colab": {
          "base_uri": "https://localhost:8080/",
          "height": 311
        },
        "id": "JvyTM0jopetx",
        "outputId": "20891cf3-6cf4-489e-a1a1-3f940d11fc7b"
      },
      "source": [
        "ax = sns.barplot(x=['Train Set Accuracy','Test Set Accuracy'], y = [train_set_accuracy,test_set_accuracy])\n",
        "ax.set(xlabel = 'Train / Test Accuracy',ylabel = 'Accuracy',title = 'Naive Bayes Performance')\n",
        "plt.ylim(0,1)"
      ],
      "execution_count": null,
      "outputs": [
        {
          "output_type": "execute_result",
          "data": {
            "text/plain": [
              "(0.0, 1.0)"
            ]
          },
          "metadata": {
            "tags": []
          },
          "execution_count": 104
        },
        {
          "output_type": "display_data",
          "data": {
            "image/png": "[encoded data removed]",
            "text/plain": [
              "<Figure size 432x288 with 1 Axes>"
            ]
          },
          "metadata": {
            "tags": [],
            "needs_background": "light"
          }
        }
      ]
    },
    {
      "cell_type": "code",
      "metadata": {
        "id": "VR5iHAsgpk9n",
        "colab": {
          "base_uri": "https://localhost:8080/",
          "height": 311
        },
        "outputId": "268cdea6-7220-46f1-e352-61b8dbf035a3"
      },
      "source": [
        "cnf_matrix = confusion_matrix(y_test,yhat,labels = [0,1])\n",
        "plot_confusion_matrix(cnf_matrix,classes = ['Alive','Dead'])"
      ],
      "execution_count": null,
      "outputs": [
        {
          "output_type": "display_data",
          "data": {
            "image/png": "[encoded data removed]",
            "text/plain": [
              "<Figure size 432x288 with 2 Axes>"
            ]
          },
          "metadata": {
            "tags": [],
            "needs_background": "light"
          }
        }
      ]
    }
  ]
}